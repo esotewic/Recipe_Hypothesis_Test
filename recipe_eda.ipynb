{
 "cells": [
  {
   "cell_type": "code",
   "execution_count": 409,
   "metadata": {},
   "outputs": [],
   "source": [
    "import copy\n",
    "import pandas as pd\n",
    "import numpy as np\n",
    "import scipy.stats as stats\n",
    "\n",
    "# Requests sends and recieves HTTP requests.\n",
    "import requests\n",
    "\n",
    "# Beautiful Soup parses HTML documents in python.\n",
    "from bs4 import BeautifulSoup\n",
    "\n",
    "import re\n",
    "\n",
    "import seaborn as sns\n",
    "import matplotlib.pyplot as plt\n",
    "import pandas as pd\n",
    "from sklearn import datasets\n",
    "%matplotlib inline\n",
    "\n",
    "plt.style.use('ggplot')"
   ]
  },
  {
   "cell_type": "code",
   "execution_count": 785,
   "metadata": {},
   "outputs": [],
   "source": [
    "import numpy as np\n",
    "import pandas as pd\n",
    "from os import path\n",
    "from PIL import Image\n",
    "from wordcloud import WordCloud, STOPWORDS, ImageColorGenerator\n",
    "\n",
    "import matplotlib.pyplot as plt\n",
    "%matplotlib inline"
   ]
  },
  {
   "cell_type": "code",
   "execution_count": 373,
   "metadata": {},
   "outputs": [],
   "source": [
    "recipe_url = 'https://www.epicurious.com/search?page=862&sort=mostReviewed'\n",
    "r = requests.get(recipe_url)"
   ]
  },
  {
   "cell_type": "code",
   "execution_count": 374,
   "metadata": {},
   "outputs": [
    {
     "data": {
      "text/plain": [
       "200"
      ]
     },
     "execution_count": 374,
     "metadata": {},
     "output_type": "execute_result"
    }
   ],
   "source": [
    "r.status_code"
   ]
  },
  {
   "cell_type": "code",
   "execution_count": 868,
   "metadata": {},
   "outputs": [],
   "source": [
    "from pymongo import MongoClient\n",
    "client = MongoClient('localhost', 27017)\n",
    "\n",
    "# Access/Initiate Database\n",
    "recipe_db = client.recipe_database\n",
    "\n",
    "# Access/Initiate Table\n",
    "recipes_table = recipe_db.recipes_table"
   ]
  },
  {
   "cell_type": "code",
   "execution_count": 869,
   "metadata": {},
   "outputs": [
    {
     "data": {
      "text/plain": [
       "(33102, 83)"
      ]
     },
     "execution_count": 869,
     "metadata": {},
     "output_type": "execute_result"
    }
   ],
   "source": [
    "recipes = recipes_table.find()\n",
    "recipe_table = pd.DataFrame(list(recipes))\n",
    "recipe_table.shape"
   ]
  },
  {
   "cell_type": "code",
   "execution_count": 680,
   "metadata": {},
   "outputs": [
    {
     "data": {
      "text/plain": [
       "Index(['', 'Calories', 'Carbohydrates', 'Cholesterol', 'Fat', 'Fiber',\n",
       "       'Ingredient #1', 'Ingredient #10', 'Ingredient #11', 'Ingredient #12',\n",
       "       'Ingredient #13', 'Ingredient #14', 'Ingredient #15', 'Ingredient #16',\n",
       "       'Ingredient #17', 'Ingredient #18', 'Ingredient #19', 'Ingredient #2',\n",
       "       'Ingredient #20', 'Ingredient #21', 'Ingredient #22', 'Ingredient #23',\n",
       "       'Ingredient #24', 'Ingredient #25', 'Ingredient #26', 'Ingredient #27',\n",
       "       'Ingredient #28', 'Ingredient #29', 'Ingredient #3', 'Ingredient #4',\n",
       "       'Ingredient #5', 'Ingredient #6', 'Ingredient #7', 'Ingredient #8',\n",
       "       'Ingredient #9', 'Make_Again', 'Monounsaturated Fat',\n",
       "       'Polyunsaturated Fat', 'Protein', 'Rating', 'Reviews', 'Saturated Fat',\n",
       "       'Sodium', 'Tag #1', 'Tag #10', 'Tag #11', 'Tag #12', 'Tag #13',\n",
       "       'Tag #14', 'Tag #15', 'Tag #16', 'Tag #17', 'Tag #18', 'Tag #19',\n",
       "       'Tag #2', 'Tag #20', 'Tag #21', 'Tag #22', 'Tag #23', 'Tag #24',\n",
       "       'Tag #25', 'Tag #26', 'Tag #27', 'Tag #28', 'Tag #29', 'Tag #3',\n",
       "       'Tag #30', 'Tag #31', 'Tag #32', 'Tag #33', 'Tag #34', 'Tag #35',\n",
       "       'Tag #36', 'Tag #37', 'Tag #38', 'Tag #4', 'Tag #5', 'Tag #6', 'Tag #7',\n",
       "       'Tag #8', 'Tag #9', 'Title', '_id'],\n",
       "      dtype='object')"
      ]
     },
     "execution_count": 680,
     "metadata": {},
     "output_type": "execute_result"
    }
   ],
   "source": [
    "recipe_table.columns"
   ]
  },
  {
   "cell_type": "code",
   "execution_count": 501,
   "metadata": {},
   "outputs": [],
   "source": [
    "#extract all recipes with 'Winter' tag\n",
    "def find_winter(x):\n",
    "    col='Tag #'\n",
    "    for _ in range(1,39):\n",
    "        if x[col+str(_)]=='Winter': return True\n",
    "    return False\n",
    "         \n",
    "mask = recipe_table.apply(find_winter,axis=1)\n",
    "#print(mask)\n",
    "\n",
    "Winter = recipe_table[mask]\n",
    "\n",
    "winter_nutrition = Winter[['Calories', 'Carbohydrates', 'Cholesterol', \n",
    "                           'Fat', 'Fiber','Make_Again', 'Monounsaturated Fat',\n",
    "                           'Polyunsaturated Fat', 'Protein', 'Rating', 'Reviews', \n",
    "                           'Saturated Fat', 'Sodium', 'Title', '_id']]\n"
   ]
  },
  {
   "cell_type": "code",
   "execution_count": 502,
   "metadata": {},
   "outputs": [],
   "source": [
    "#extract all recipes with 'Winter' tag\n",
    "def find_summer(x):\n",
    "    col='Tag #'\n",
    "    for _ in range(1,39):\n",
    "        if x[col+str(_)]=='Summer': return True\n",
    "    return False\n",
    "         \n",
    "mask = recipe_table.apply(find_summer,axis=1)\n",
    "#print(mask)\n",
    "\n",
    "Summer = recipe_table[mask]\n",
    "\n",
    "\n",
    "summer_nutrition = Summer[['Calories', 'Carbohydrates', 'Cholesterol', \n",
    "                           'Fat', 'Fiber','Make_Again', 'Monounsaturated Fat',\n",
    "                           'Polyunsaturated Fat', 'Protein', 'Rating', 'Reviews', \n",
    "                           'Saturated Fat', 'Sodium', 'Title', '_id']]"
   ]
  },
  {
   "cell_type": "code",
   "execution_count": 728,
   "metadata": {},
   "outputs": [],
   "source": [
    "all_nutrition = recipe_table[['Calories', 'Carbohydrates', 'Cholesterol', \n",
    "                           'Fat', 'Fiber','Make_Again', 'Monounsaturated Fat',\n",
    "                           'Polyunsaturated Fat', 'Protein', 'Rating', 'Reviews', \n",
    "                           'Saturated Fat', 'Sodium', 'Title', '_id','Ingredient #1', 'Ingredient #10', 'Ingredient #11', 'Ingredient #12',\n",
    "       'Ingredient #13', 'Ingredient #14', 'Ingredient #15', 'Ingredient #16',\n",
    "       'Ingredient #17', 'Ingredient #18', 'Ingredient #19', 'Ingredient #2',\n",
    "       'Ingredient #20', 'Ingredient #21', 'Ingredient #22', 'Ingredient #23',\n",
    "       'Ingredient #24', 'Ingredient #25', 'Ingredient #26', 'Ingredient #27',\n",
    "       'Ingredient #28', 'Ingredient #29', 'Ingredient #3', 'Ingredient #4',\n",
    "       'Ingredient #5', 'Ingredient #6', 'Ingredient #7', 'Ingredient #8',\n",
    "       'Ingredient #9']]"
   ]
  },
  {
   "cell_type": "code",
   "execution_count": 729,
   "metadata": {},
   "outputs": [
    {
     "name": "stderr",
     "output_type": "stream",
     "text": [
      "/Users/esotewic/anaconda3/lib/python3.7/site-packages/ipykernel_launcher.py:13: SettingWithCopyWarning: \n",
      "A value is trying to be set on a copy of a slice from a DataFrame.\n",
      "Try using .loc[row_indexer,col_indexer] = value instead\n",
      "\n",
      "See the caveats in the documentation: http://pandas.pydata.org/pandas-docs/stable/indexing.html#indexing-view-versus-copy\n",
      "  del sys.path[0]\n",
      "/Users/esotewic/anaconda3/lib/python3.7/site-packages/ipykernel_launcher.py:17: SettingWithCopyWarning: \n",
      "A value is trying to be set on a copy of a slice from a DataFrame.\n",
      "Try using .loc[row_indexer,col_indexer] = value instead\n",
      "\n",
      "See the caveats in the documentation: http://pandas.pydata.org/pandas-docs/stable/indexing.html#indexing-view-versus-copy\n",
      "/Users/esotewic/anaconda3/lib/python3.7/site-packages/ipykernel_launcher.py:21: SettingWithCopyWarning: \n",
      "A value is trying to be set on a copy of a slice from a DataFrame.\n",
      "Try using .loc[row_indexer,col_indexer] = value instead\n",
      "\n",
      "See the caveats in the documentation: http://pandas.pydata.org/pandas-docs/stable/indexing.html#indexing-view-versus-copy\n",
      "/Users/esotewic/anaconda3/lib/python3.7/site-packages/ipykernel_launcher.py:23: SettingWithCopyWarning: \n",
      "A value is trying to be set on a copy of a slice from a DataFrame.\n",
      "Try using .loc[row_indexer,col_indexer] = value instead\n",
      "\n",
      "See the caveats in the documentation: http://pandas.pydata.org/pandas-docs/stable/indexing.html#indexing-view-versus-copy\n",
      "/Users/esotewic/anaconda3/lib/python3.7/site-packages/ipykernel_launcher.py:24: SettingWithCopyWarning: \n",
      "A value is trying to be set on a copy of a slice from a DataFrame.\n",
      "Try using .loc[row_indexer,col_indexer] = value instead\n",
      "\n",
      "See the caveats in the documentation: http://pandas.pydata.org/pandas-docs/stable/indexing.html#indexing-view-versus-copy\n",
      "/Users/esotewic/anaconda3/lib/python3.7/site-packages/ipykernel_launcher.py:25: SettingWithCopyWarning: \n",
      "A value is trying to be set on a copy of a slice from a DataFrame.\n",
      "Try using .loc[row_indexer,col_indexer] = value instead\n",
      "\n",
      "See the caveats in the documentation: http://pandas.pydata.org/pandas-docs/stable/indexing.html#indexing-view-versus-copy\n"
     ]
    }
   ],
   "source": [
    "#data cleaning\n",
    "def get_val(x):\n",
    "    return str(x).split(' ')[0]\n",
    "# def get_perc(x):\n",
    "#     return str(x.split(' ')[1])[2:-2]\n",
    "\n",
    "colz = ['Carbohydrates', 'Cholesterol', 'Fat', 'Fiber', 'Protein',\n",
    "       'Saturated Fat', 'Sodium']\n",
    "valcolz = [x[:3] + '_val' for x in colz]\n",
    "percolz = [x[:3] + '_perc' for x in colz]\n",
    "\n",
    "for i,x in enumerate(colz):\n",
    "    winter_nutrition[valcolz[i]] = winter_nutrition[x].dropna().apply(get_val)\n",
    "#     rn[percolz[i]] = rn[x].dropna().apply(get_perc)\n",
    "    \n",
    "for i,x in enumerate(colz):\n",
    "    summer_nutrition[valcolz[i]] = summer_nutrition[x].dropna().apply(get_val)\n",
    "#     rna[percolz[i]] = rna[x].dropna().apply(get_perc)\n",
    "\n",
    "for i,x in enumerate(colz):\n",
    "    all_nutrition[valcolz[i]] = all_nutrition[x].dropna().apply(get_val)\n",
    "\n",
    "summer_nutrition['Make_Again#'] = summer_nutrition['Make_Again'].apply(lambda x: x.strip('%'))\n",
    "winter_nutrition['Make_Again#'] = winter_nutrition['Make_Again'].apply(lambda x: x.strip('%'))\n",
    "all_nutrition['Make_Again#'] = all_nutrition['Make_Again'].apply(lambda x: x.strip('%'))\n",
    "\n"
   ]
  },
  {
   "cell_type": "code",
   "execution_count": 718,
   "metadata": {},
   "outputs": [],
   "source": [
    "# summer_nutrition.head()"
   ]
  },
  {
   "cell_type": "code",
   "execution_count": 730,
   "metadata": {},
   "outputs": [],
   "source": [
    "summer_nutritions = summer_nutrition[['Calories', 'Make_Again#', 'Rating', 'Reviews',\n",
    "                                      'Car_val', 'Cho_val', 'Fat_val', 'Fib_val', 'Pro_val', \n",
    "                                      'Sat_val', 'Sod_val']].apply(pd.to_numeric)\n",
    "winter_nutritions = winter_nutrition[['Calories', 'Make_Again#', 'Rating', 'Reviews',\n",
    "                                      'Car_val', 'Cho_val', 'Fat_val', 'Fib_val', 'Pro_val', \n",
    "                                      'Sat_val', 'Sod_val']].apply(pd.to_numeric)\n",
    "all_nutritions = all_nutrition[['Calories', 'Make_Again#', 'Rating', 'Reviews',\n",
    "                                      'Car_val', 'Cho_val', 'Fat_val', 'Fib_val', 'Pro_val', \n",
    "                                      'Sat_val', 'Sod_val']].apply(pd.to_numeric)\n",
    "\n",
    "summer_nutritions['score'] = summer_nutritions['Rating'] * summer_nutritions['Reviews'] * summer_nutritions['Make_Again#']/100\n",
    "\n",
    "winter_nutritions['score'] = winter_nutritions['Rating'] * winter_nutritions['Reviews'] * winter_nutritions['Make_Again#']/100\n",
    "\n",
    "all_nutritions['score'] = all_nutritions['Rating'] * all_nutritions['Reviews'] * all_nutritions['Make_Again#']/100\n",
    "\n"
   ]
  },
  {
   "cell_type": "code",
   "execution_count": 880,
   "metadata": {},
   "outputs": [
    {
     "data": {
      "text/plain": [
       "2747.6666666666665"
      ]
     },
     "execution_count": 880,
     "metadata": {},
     "output_type": "execute_result"
    }
   ],
   "source": [
    "16486/6"
   ]
  },
  {
   "cell_type": "code",
   "execution_count": 879,
   "metadata": {},
   "outputs": [
    {
     "data": {
      "text/plain": [
       "Calories                                                           16486\n",
       "Carbohydrates                                                   26 g(9%)\n",
       "Cholesterol                                               3192 mg(1064%)\n",
       "Fat                                                        1528 g(2350%)\n",
       "Fiber                                                           9 g(37%)\n",
       "Ingredient #1                                       1 cup dry white wine\n",
       "Ingredient #2                                3 tablespoons minced garlic\n",
       "Ingredient #3                                2 tablespoons Dijon mustard\n",
       "Ingredient #4                        1 teaspoon dried crushed red pepper\n",
       "Ingredient #5          18 3-to-4 inch pieces meaty beef chuck short ribs\n",
       "Make_Again                                                           79%\n",
       "Monounsaturated Fat                                                692 g\n",
       "Polyunsaturated Fat                                                 56 g\n",
       "Protein                                                     612 g(1224%)\n",
       "Rating                                                               3.5\n",
       "Reviews                                                               16\n",
       "Saturated Fat                                               663 g(3314%)\n",
       "Sodium                                                     2492 mg(104%)\n",
       "Tag #1                                                             Onion\n",
       "Tag #10                                                             Fall\n",
       "Tag #11                                                           Winter\n",
       "Tag #12                                                            Chill\n",
       "Tag #13                                                            Thyme\n",
       "Tag #14                                                           Simmer\n",
       "Tag #15                                                             Boil\n",
       "Tag #16                                                      Bon Appétit\n",
       "Tag #2                                                            Braise\n",
       "Tag #3                                                          Marinate\n",
       "Tag #4                                                             Roast\n",
       "Tag #5                                                             Sauté\n",
       "Tag #6                                                          Beef Rib\n",
       "Tag #7                                                            Celery\n",
       "Tag #8                                                            Carrot\n",
       "Tag #9                                                        White Wine\n",
       "Title                  Braised Short Ribs with Carrots and Onions recipe\n",
       "_id                                             5d783bd12a15d7457b6c3483\n",
       "Name: 11934, dtype: object"
      ]
     },
     "execution_count": 879,
     "metadata": {},
     "output_type": "execute_result"
    }
   ],
   "source": [
    "recipe_table.iloc[11934].dropna()"
   ]
  },
  {
   "cell_type": "code",
   "execution_count": 735,
   "metadata": {},
   "outputs": [],
   "source": [
    "def find_toofat(x):\n",
    "    if x['Calories']<2800 and x['Fat_val']<93: return True\n",
    "    return False\n",
    "         \n",
    "mask = all_nutritions.apply(find_toofat,axis=1)\n",
    "#print(mask)\n",
    "\n",
    "all_nutritions_no_fat = all_nutritions[mask]\n",
    "\n",
    "# all_nutritions_no_fat\n",
    "# 24146x12"
   ]
  },
  {
   "cell_type": "code",
   "execution_count": 877,
   "metadata": {},
   "outputs": [
    {
     "data": {
      "text/plain": [
       "Calories                                                             983\n",
       "Carbohydrates                                                    3 g(1%)\n",
       "Cholesterol                                                  204 mg(68%)\n",
       "Fat                                                           92 g(142%)\n",
       "Fiber                                                            1 g(3%)\n",
       "Ingredient #1                                             1 garlic clove\n",
       "Ingredient #2          1/4 cup chopped sun-dried tomatoes packed in o...\n",
       "Ingredient #3                                            1/2 cup walnuts\n",
       "Ingredient #4                              1/4 teaspoon ground coriander\n",
       "Ingredient #5                                       1/4 teaspoon cayenne\n",
       "Ingredient #6                     1 tablespoon chopped flat-leaf parsley\n",
       "Ingredient #7                                  1/2 stick unsalted butter\n",
       "Ingredient #8                             1/2 teaspoon fresh lemon juice\n",
       "Ingredient #9                8 rib lamb chops (3/4 inch thick; 2 pounds)\n",
       "Make_Again                                                           94%\n",
       "Monounsaturated Fat                                                 36 g\n",
       "Polyunsaturated Fat                                                  8 g\n",
       "Protein                                                        34 g(69%)\n",
       "Rating                                                                 4\n",
       "Reviews                                                               19\n",
       "Saturated Fat                                                 42 g(210%)\n",
       "Sodium                                                        138 mg(6%)\n",
       "Tag #1                                                    Food Processor\n",
       "Tag #10                                                Wheat/Gluten-Free\n",
       "Tag #11                                                      Peanut Free\n",
       "Tag #12                                                         Soy Free\n",
       "Tag #13                                                   No Sugar Added\n",
       "Tag #2                                                            Tomato\n",
       "Tag #3                                                             Broil\n",
       "Tag #4                                                      Quick & Easy\n",
       "Tag #5                                                            Dinner\n",
       "Tag #6                                                         Lamb Chop\n",
       "Tag #7                                                            Walnut\n",
       "Tag #8                                                           Gourmet\n",
       "Tag #9                                                   Sugar Conscious\n",
       "Title                     Lamb Chops with Sun-Dried Tomato Butter recipe\n",
       "_id                                             5d782db82a15d7457b6c2cf4\n",
       "Name: 9999, dtype: object"
      ]
     },
     "execution_count": 877,
     "metadata": {},
     "output_type": "execute_result"
    }
   ],
   "source": []
  },
  {
   "cell_type": "code",
   "execution_count": 876,
   "metadata": {},
   "outputs": [
    {
     "data": {
      "text/html": [
       "<div>\n",
       "<style scoped>\n",
       "    .dataframe tbody tr th:only-of-type {\n",
       "        vertical-align: middle;\n",
       "    }\n",
       "\n",
       "    .dataframe tbody tr th {\n",
       "        vertical-align: top;\n",
       "    }\n",
       "\n",
       "    .dataframe thead th {\n",
       "        text-align: right;\n",
       "    }\n",
       "</style>\n",
       "<table border=\"1\" class=\"dataframe\">\n",
       "  <thead>\n",
       "    <tr style=\"text-align: right;\">\n",
       "      <th></th>\n",
       "      <th>Calories</th>\n",
       "      <th>Make_Again#</th>\n",
       "      <th>Rating</th>\n",
       "      <th>Reviews</th>\n",
       "      <th>Car_val</th>\n",
       "      <th>Cho_val</th>\n",
       "      <th>Fat_val</th>\n",
       "      <th>Fib_val</th>\n",
       "      <th>Pro_val</th>\n",
       "      <th>Sat_val</th>\n",
       "      <th>Sod_val</th>\n",
       "      <th>score</th>\n",
       "    </tr>\n",
       "  </thead>\n",
       "  <tbody>\n",
       "    <tr>\n",
       "      <th>9999</th>\n",
       "      <td>983.0</td>\n",
       "      <td>94</td>\n",
       "      <td>4.0</td>\n",
       "      <td>19</td>\n",
       "      <td>3.0</td>\n",
       "      <td>204.0</td>\n",
       "      <td>92.0</td>\n",
       "      <td>1.0</td>\n",
       "      <td>34.0</td>\n",
       "      <td>42.0</td>\n",
       "      <td>138.0</td>\n",
       "      <td>71.440</td>\n",
       "    </tr>\n",
       "    <tr>\n",
       "      <th>22205</th>\n",
       "      <td>1590.0</td>\n",
       "      <td>60</td>\n",
       "      <td>2.5</td>\n",
       "      <td>6</td>\n",
       "      <td>161.0</td>\n",
       "      <td>549.0</td>\n",
       "      <td>92.0</td>\n",
       "      <td>8.0</td>\n",
       "      <td>35.0</td>\n",
       "      <td>44.0</td>\n",
       "      <td>598.0</td>\n",
       "      <td>9.000</td>\n",
       "    </tr>\n",
       "    <tr>\n",
       "      <th>2156</th>\n",
       "      <td>1207.0</td>\n",
       "      <td>83</td>\n",
       "      <td>3.0</td>\n",
       "      <td>65</td>\n",
       "      <td>25.0</td>\n",
       "      <td>286.0</td>\n",
       "      <td>92.0</td>\n",
       "      <td>4.0</td>\n",
       "      <td>68.0</td>\n",
       "      <td>38.0</td>\n",
       "      <td>688.0</td>\n",
       "      <td>161.850</td>\n",
       "    </tr>\n",
       "    <tr>\n",
       "      <th>772</th>\n",
       "      <td>1361.0</td>\n",
       "      <td>82</td>\n",
       "      <td>3.0</td>\n",
       "      <td>110</td>\n",
       "      <td>7.0</td>\n",
       "      <td>434.0</td>\n",
       "      <td>92.0</td>\n",
       "      <td>3.0</td>\n",
       "      <td>127.0</td>\n",
       "      <td>39.0</td>\n",
       "      <td>653.0</td>\n",
       "      <td>270.600</td>\n",
       "    </tr>\n",
       "    <tr>\n",
       "      <th>5731</th>\n",
       "      <td>1062.0</td>\n",
       "      <td>87</td>\n",
       "      <td>3.0</td>\n",
       "      <td>33</td>\n",
       "      <td>41.0</td>\n",
       "      <td>64.0</td>\n",
       "      <td>92.0</td>\n",
       "      <td>9.0</td>\n",
       "      <td>27.0</td>\n",
       "      <td>10.0</td>\n",
       "      <td>405.0</td>\n",
       "      <td>86.130</td>\n",
       "    </tr>\n",
       "    <tr>\n",
       "      <th>25071</th>\n",
       "      <td>842.0</td>\n",
       "      <td>100</td>\n",
       "      <td>2.5</td>\n",
       "      <td>4</td>\n",
       "      <td>7.0</td>\n",
       "      <td>5.0</td>\n",
       "      <td>92.0</td>\n",
       "      <td>3.0</td>\n",
       "      <td>4.0</td>\n",
       "      <td>13.0</td>\n",
       "      <td>1973.0</td>\n",
       "      <td>10.000</td>\n",
       "    </tr>\n",
       "    <tr>\n",
       "      <th>10898</th>\n",
       "      <td>1691.0</td>\n",
       "      <td>94</td>\n",
       "      <td>3.0</td>\n",
       "      <td>17</td>\n",
       "      <td>168.0</td>\n",
       "      <td>129.0</td>\n",
       "      <td>92.0</td>\n",
       "      <td>10.0</td>\n",
       "      <td>45.0</td>\n",
       "      <td>30.0</td>\n",
       "      <td>1476.0</td>\n",
       "      <td>47.940</td>\n",
       "    </tr>\n",
       "    <tr>\n",
       "      <th>11802</th>\n",
       "      <td>1025.0</td>\n",
       "      <td>94</td>\n",
       "      <td>3.5</td>\n",
       "      <td>16</td>\n",
       "      <td>11.0</td>\n",
       "      <td>209.0</td>\n",
       "      <td>92.0</td>\n",
       "      <td>1.0</td>\n",
       "      <td>36.0</td>\n",
       "      <td>43.0</td>\n",
       "      <td>537.0</td>\n",
       "      <td>52.640</td>\n",
       "    </tr>\n",
       "    <tr>\n",
       "      <th>6490</th>\n",
       "      <td>1232.0</td>\n",
       "      <td>81</td>\n",
       "      <td>4.0</td>\n",
       "      <td>29</td>\n",
       "      <td>4.0</td>\n",
       "      <td>362.0</td>\n",
       "      <td>92.0</td>\n",
       "      <td>0.0</td>\n",
       "      <td>88.0</td>\n",
       "      <td>32.0</td>\n",
       "      <td>336.0</td>\n",
       "      <td>93.960</td>\n",
       "    </tr>\n",
       "    <tr>\n",
       "      <th>20319</th>\n",
       "      <td>975.0</td>\n",
       "      <td>100</td>\n",
       "      <td>3.0</td>\n",
       "      <td>7</td>\n",
       "      <td>2.0</td>\n",
       "      <td>173.0</td>\n",
       "      <td>92.0</td>\n",
       "      <td>0.0</td>\n",
       "      <td>33.0</td>\n",
       "      <td>36.0</td>\n",
       "      <td>129.0</td>\n",
       "      <td>21.000</td>\n",
       "    </tr>\n",
       "    <tr>\n",
       "      <th>360</th>\n",
       "      <td>1150.0</td>\n",
       "      <td>95</td>\n",
       "      <td>3.5</td>\n",
       "      <td>154</td>\n",
       "      <td>9.0</td>\n",
       "      <td>376.0</td>\n",
       "      <td>92.0</td>\n",
       "      <td>2.0</td>\n",
       "      <td>68.0</td>\n",
       "      <td>39.0</td>\n",
       "      <td>245.0</td>\n",
       "      <td>512.050</td>\n",
       "    </tr>\n",
       "    <tr>\n",
       "      <th>23963</th>\n",
       "      <td>1184.0</td>\n",
       "      <td>100</td>\n",
       "      <td>4.0</td>\n",
       "      <td>4</td>\n",
       "      <td>71.0</td>\n",
       "      <td>79.0</td>\n",
       "      <td>92.0</td>\n",
       "      <td>16.0</td>\n",
       "      <td>28.0</td>\n",
       "      <td>23.0</td>\n",
       "      <td>1806.0</td>\n",
       "      <td>16.000</td>\n",
       "    </tr>\n",
       "    <tr>\n",
       "      <th>14729</th>\n",
       "      <td>1355.0</td>\n",
       "      <td>78</td>\n",
       "      <td>3.5</td>\n",
       "      <td>12</td>\n",
       "      <td>32.0</td>\n",
       "      <td>355.0</td>\n",
       "      <td>92.0</td>\n",
       "      <td>1.0</td>\n",
       "      <td>90.0</td>\n",
       "      <td>32.0</td>\n",
       "      <td>1797.0</td>\n",
       "      <td>32.760</td>\n",
       "    </tr>\n",
       "    <tr>\n",
       "      <th>7120</th>\n",
       "      <td>1055.0</td>\n",
       "      <td>85</td>\n",
       "      <td>3.5</td>\n",
       "      <td>27</td>\n",
       "      <td>14.0</td>\n",
       "      <td>173.0</td>\n",
       "      <td>92.0</td>\n",
       "      <td>2.0</td>\n",
       "      <td>34.0</td>\n",
       "      <td>37.0</td>\n",
       "      <td>423.0</td>\n",
       "      <td>80.325</td>\n",
       "    </tr>\n",
       "    <tr>\n",
       "      <th>16337</th>\n",
       "      <td>1051.0</td>\n",
       "      <td>78</td>\n",
       "      <td>3.5</td>\n",
       "      <td>10</td>\n",
       "      <td>23.0</td>\n",
       "      <td>168.0</td>\n",
       "      <td>92.0</td>\n",
       "      <td>5.0</td>\n",
       "      <td>37.0</td>\n",
       "      <td>36.0</td>\n",
       "      <td>293.0</td>\n",
       "      <td>27.300</td>\n",
       "    </tr>\n",
       "    <tr>\n",
       "      <th>12951</th>\n",
       "      <td>1185.0</td>\n",
       "      <td>100</td>\n",
       "      <td>3.5</td>\n",
       "      <td>14</td>\n",
       "      <td>65.0</td>\n",
       "      <td>224.0</td>\n",
       "      <td>92.0</td>\n",
       "      <td>5.0</td>\n",
       "      <td>28.0</td>\n",
       "      <td>18.0</td>\n",
       "      <td>1196.0</td>\n",
       "      <td>49.000</td>\n",
       "    </tr>\n",
       "    <tr>\n",
       "      <th>2711</th>\n",
       "      <td>1061.0</td>\n",
       "      <td>91</td>\n",
       "      <td>3.5</td>\n",
       "      <td>56</td>\n",
       "      <td>NaN</td>\n",
       "      <td>234.0</td>\n",
       "      <td>92.0</td>\n",
       "      <td>NaN</td>\n",
       "      <td>54.0</td>\n",
       "      <td>38.0</td>\n",
       "      <td>975.0</td>\n",
       "      <td>178.360</td>\n",
       "    </tr>\n",
       "    <tr>\n",
       "      <th>23759</th>\n",
       "      <td>978.0</td>\n",
       "      <td>80</td>\n",
       "      <td>3.0</td>\n",
       "      <td>5</td>\n",
       "      <td>2.0</td>\n",
       "      <td>173.0</td>\n",
       "      <td>92.0</td>\n",
       "      <td>1.0</td>\n",
       "      <td>33.0</td>\n",
       "      <td>36.0</td>\n",
       "      <td>620.0</td>\n",
       "      <td>12.000</td>\n",
       "    </tr>\n",
       "    <tr>\n",
       "      <th>28112</th>\n",
       "      <td>840.0</td>\n",
       "      <td>100</td>\n",
       "      <td>2.5</td>\n",
       "      <td>2</td>\n",
       "      <td>7.0</td>\n",
       "      <td>244.0</td>\n",
       "      <td>92.0</td>\n",
       "      <td>NaN</td>\n",
       "      <td>1.0</td>\n",
       "      <td>58.0</td>\n",
       "      <td>412.0</td>\n",
       "      <td>5.000</td>\n",
       "    </tr>\n",
       "    <tr>\n",
       "      <th>28314</th>\n",
       "      <td>1292.0</td>\n",
       "      <td>100</td>\n",
       "      <td>3.5</td>\n",
       "      <td>2</td>\n",
       "      <td>97.0</td>\n",
       "      <td>122.0</td>\n",
       "      <td>92.0</td>\n",
       "      <td>3.0</td>\n",
       "      <td>21.0</td>\n",
       "      <td>33.0</td>\n",
       "      <td>1445.0</td>\n",
       "      <td>7.000</td>\n",
       "    </tr>\n",
       "    <tr>\n",
       "      <th>304</th>\n",
       "      <td>1180.0</td>\n",
       "      <td>89</td>\n",
       "      <td>3.5</td>\n",
       "      <td>168</td>\n",
       "      <td>16.0</td>\n",
       "      <td>426.0</td>\n",
       "      <td>91.0</td>\n",
       "      <td>2.0</td>\n",
       "      <td>73.0</td>\n",
       "      <td>21.0</td>\n",
       "      <td>2693.0</td>\n",
       "      <td>523.320</td>\n",
       "    </tr>\n",
       "    <tr>\n",
       "      <th>7886</th>\n",
       "      <td>1034.0</td>\n",
       "      <td>91</td>\n",
       "      <td>3.5</td>\n",
       "      <td>25</td>\n",
       "      <td>17.0</td>\n",
       "      <td>189.0</td>\n",
       "      <td>91.0</td>\n",
       "      <td>2.0</td>\n",
       "      <td>35.0</td>\n",
       "      <td>39.0</td>\n",
       "      <td>341.0</td>\n",
       "      <td>79.625</td>\n",
       "    </tr>\n",
       "    <tr>\n",
       "      <th>16305</th>\n",
       "      <td>1181.0</td>\n",
       "      <td>89</td>\n",
       "      <td>4.0</td>\n",
       "      <td>10</td>\n",
       "      <td>56.0</td>\n",
       "      <td>172.0</td>\n",
       "      <td>91.0</td>\n",
       "      <td>3.0</td>\n",
       "      <td>32.0</td>\n",
       "      <td>30.0</td>\n",
       "      <td>1330.0</td>\n",
       "      <td>35.600</td>\n",
       "    </tr>\n",
       "    <tr>\n",
       "      <th>24140</th>\n",
       "      <td>1632.0</td>\n",
       "      <td>50</td>\n",
       "      <td>3.5</td>\n",
       "      <td>4</td>\n",
       "      <td>119.0</td>\n",
       "      <td>234.0</td>\n",
       "      <td>91.0</td>\n",
       "      <td>11.0</td>\n",
       "      <td>65.0</td>\n",
       "      <td>33.0</td>\n",
       "      <td>249.0</td>\n",
       "      <td>7.000</td>\n",
       "    </tr>\n",
       "    <tr>\n",
       "      <th>13682</th>\n",
       "      <td>1875.0</td>\n",
       "      <td>70</td>\n",
       "      <td>2.5</td>\n",
       "      <td>13</td>\n",
       "      <td>229.0</td>\n",
       "      <td>NaN</td>\n",
       "      <td>91.0</td>\n",
       "      <td>23.0</td>\n",
       "      <td>43.0</td>\n",
       "      <td>13.0</td>\n",
       "      <td>1805.0</td>\n",
       "      <td>22.750</td>\n",
       "    </tr>\n",
       "    <tr>\n",
       "      <th>16600</th>\n",
       "      <td>1167.0</td>\n",
       "      <td>100</td>\n",
       "      <td>3.5</td>\n",
       "      <td>10</td>\n",
       "      <td>47.0</td>\n",
       "      <td>176.0</td>\n",
       "      <td>91.0</td>\n",
       "      <td>10.0</td>\n",
       "      <td>33.0</td>\n",
       "      <td>30.0</td>\n",
       "      <td>854.0</td>\n",
       "      <td>35.000</td>\n",
       "    </tr>\n",
       "    <tr>\n",
       "      <th>18208</th>\n",
       "      <td>1011.0</td>\n",
       "      <td>100</td>\n",
       "      <td>4.0</td>\n",
       "      <td>8</td>\n",
       "      <td>6.0</td>\n",
       "      <td>187.0</td>\n",
       "      <td>91.0</td>\n",
       "      <td>1.0</td>\n",
       "      <td>41.0</td>\n",
       "      <td>38.0</td>\n",
       "      <td>180.0</td>\n",
       "      <td>32.000</td>\n",
       "    </tr>\n",
       "    <tr>\n",
       "      <th>26022</th>\n",
       "      <td>2351.0</td>\n",
       "      <td>100</td>\n",
       "      <td>3.5</td>\n",
       "      <td>3</td>\n",
       "      <td>345.0</td>\n",
       "      <td>573.0</td>\n",
       "      <td>91.0</td>\n",
       "      <td>4.0</td>\n",
       "      <td>48.0</td>\n",
       "      <td>35.0</td>\n",
       "      <td>1388.0</td>\n",
       "      <td>10.500</td>\n",
       "    </tr>\n",
       "    <tr>\n",
       "      <th>16874</th>\n",
       "      <td>1672.0</td>\n",
       "      <td>100</td>\n",
       "      <td>3.5</td>\n",
       "      <td>10</td>\n",
       "      <td>131.0</td>\n",
       "      <td>232.0</td>\n",
       "      <td>91.0</td>\n",
       "      <td>16.0</td>\n",
       "      <td>82.0</td>\n",
       "      <td>45.0</td>\n",
       "      <td>3507.0</td>\n",
       "      <td>35.000</td>\n",
       "    </tr>\n",
       "    <tr>\n",
       "      <th>22093</th>\n",
       "      <td>1348.0</td>\n",
       "      <td>100</td>\n",
       "      <td>4.0</td>\n",
       "      <td>6</td>\n",
       "      <td>131.0</td>\n",
       "      <td>184.0</td>\n",
       "      <td>91.0</td>\n",
       "      <td>11.0</td>\n",
       "      <td>14.0</td>\n",
       "      <td>57.0</td>\n",
       "      <td>118.0</td>\n",
       "      <td>24.000</td>\n",
       "    </tr>\n",
       "    <tr>\n",
       "      <th>...</th>\n",
       "      <td>...</td>\n",
       "      <td>...</td>\n",
       "      <td>...</td>\n",
       "      <td>...</td>\n",
       "      <td>...</td>\n",
       "      <td>...</td>\n",
       "      <td>...</td>\n",
       "      <td>...</td>\n",
       "      <td>...</td>\n",
       "      <td>...</td>\n",
       "      <td>...</td>\n",
       "      <td>...</td>\n",
       "    </tr>\n",
       "    <tr>\n",
       "      <th>26208</th>\n",
       "      <td>181.0</td>\n",
       "      <td>100</td>\n",
       "      <td>4.0</td>\n",
       "      <td>3</td>\n",
       "      <td>47.0</td>\n",
       "      <td>NaN</td>\n",
       "      <td>0.0</td>\n",
       "      <td>3.0</td>\n",
       "      <td>1.0</td>\n",
       "      <td>0.0</td>\n",
       "      <td>3.0</td>\n",
       "      <td>12.000</td>\n",
       "    </tr>\n",
       "    <tr>\n",
       "      <th>30246</th>\n",
       "      <td>264.0</td>\n",
       "      <td>100</td>\n",
       "      <td>3.5</td>\n",
       "      <td>2</td>\n",
       "      <td>45.0</td>\n",
       "      <td>NaN</td>\n",
       "      <td>0.0</td>\n",
       "      <td>NaN</td>\n",
       "      <td>0.0</td>\n",
       "      <td>0.0</td>\n",
       "      <td>9.0</td>\n",
       "      <td>7.000</td>\n",
       "    </tr>\n",
       "    <tr>\n",
       "      <th>30258</th>\n",
       "      <td>205.0</td>\n",
       "      <td>100</td>\n",
       "      <td>4.0</td>\n",
       "      <td>2</td>\n",
       "      <td>24.0</td>\n",
       "      <td>NaN</td>\n",
       "      <td>0.0</td>\n",
       "      <td>1.0</td>\n",
       "      <td>0.0</td>\n",
       "      <td>0.0</td>\n",
       "      <td>10.0</td>\n",
       "      <td>8.000</td>\n",
       "    </tr>\n",
       "    <tr>\n",
       "      <th>6501</th>\n",
       "      <td>270.0</td>\n",
       "      <td>90</td>\n",
       "      <td>3.5</td>\n",
       "      <td>29</td>\n",
       "      <td>70.0</td>\n",
       "      <td>NaN</td>\n",
       "      <td>0.0</td>\n",
       "      <td>2.0</td>\n",
       "      <td>1.0</td>\n",
       "      <td>0.0</td>\n",
       "      <td>9.0</td>\n",
       "      <td>91.350</td>\n",
       "    </tr>\n",
       "    <tr>\n",
       "      <th>22198</th>\n",
       "      <td>77.0</td>\n",
       "      <td>50</td>\n",
       "      <td>1.5</td>\n",
       "      <td>6</td>\n",
       "      <td>18.0</td>\n",
       "      <td>NaN</td>\n",
       "      <td>0.0</td>\n",
       "      <td>4.0</td>\n",
       "      <td>3.0</td>\n",
       "      <td>0.0</td>\n",
       "      <td>13.0</td>\n",
       "      <td>4.500</td>\n",
       "    </tr>\n",
       "    <tr>\n",
       "      <th>22235</th>\n",
       "      <td>167.0</td>\n",
       "      <td>83</td>\n",
       "      <td>3.5</td>\n",
       "      <td>6</td>\n",
       "      <td>43.0</td>\n",
       "      <td>NaN</td>\n",
       "      <td>0.0</td>\n",
       "      <td>1.0</td>\n",
       "      <td>1.0</td>\n",
       "      <td>0.0</td>\n",
       "      <td>14.0</td>\n",
       "      <td>17.430</td>\n",
       "    </tr>\n",
       "    <tr>\n",
       "      <th>14102</th>\n",
       "      <td>155.0</td>\n",
       "      <td>100</td>\n",
       "      <td>4.0</td>\n",
       "      <td>13</td>\n",
       "      <td>42.0</td>\n",
       "      <td>NaN</td>\n",
       "      <td>0.0</td>\n",
       "      <td>3.0</td>\n",
       "      <td>1.0</td>\n",
       "      <td>0.0</td>\n",
       "      <td>7.0</td>\n",
       "      <td>52.000</td>\n",
       "    </tr>\n",
       "    <tr>\n",
       "      <th>14101</th>\n",
       "      <td>131.0</td>\n",
       "      <td>92</td>\n",
       "      <td>3.5</td>\n",
       "      <td>13</td>\n",
       "      <td>22.0</td>\n",
       "      <td>NaN</td>\n",
       "      <td>0.0</td>\n",
       "      <td>1.0</td>\n",
       "      <td>0.0</td>\n",
       "      <td>0.0</td>\n",
       "      <td>8.0</td>\n",
       "      <td>41.860</td>\n",
       "    </tr>\n",
       "    <tr>\n",
       "      <th>10348</th>\n",
       "      <td>170.0</td>\n",
       "      <td>95</td>\n",
       "      <td>3.5</td>\n",
       "      <td>19</td>\n",
       "      <td>41.0</td>\n",
       "      <td>NaN</td>\n",
       "      <td>0.0</td>\n",
       "      <td>6.0</td>\n",
       "      <td>1.0</td>\n",
       "      <td>NaN</td>\n",
       "      <td>4.0</td>\n",
       "      <td>63.175</td>\n",
       "    </tr>\n",
       "    <tr>\n",
       "      <th>18522</th>\n",
       "      <td>845.0</td>\n",
       "      <td>83</td>\n",
       "      <td>3.0</td>\n",
       "      <td>8</td>\n",
       "      <td>146.0</td>\n",
       "      <td>NaN</td>\n",
       "      <td>0.0</td>\n",
       "      <td>7.0</td>\n",
       "      <td>1.0</td>\n",
       "      <td>0.0</td>\n",
       "      <td>23.0</td>\n",
       "      <td>19.920</td>\n",
       "    </tr>\n",
       "    <tr>\n",
       "      <th>30334</th>\n",
       "      <td>60.0</td>\n",
       "      <td>100</td>\n",
       "      <td>3.0</td>\n",
       "      <td>1</td>\n",
       "      <td>15.0</td>\n",
       "      <td>NaN</td>\n",
       "      <td>0.0</td>\n",
       "      <td>1.0</td>\n",
       "      <td>0.0</td>\n",
       "      <td>0.0</td>\n",
       "      <td>2.0</td>\n",
       "      <td>3.000</td>\n",
       "    </tr>\n",
       "    <tr>\n",
       "      <th>18529</th>\n",
       "      <td>251.0</td>\n",
       "      <td>88</td>\n",
       "      <td>3.5</td>\n",
       "      <td>8</td>\n",
       "      <td>62.0</td>\n",
       "      <td>NaN</td>\n",
       "      <td>0.0</td>\n",
       "      <td>9.0</td>\n",
       "      <td>1.0</td>\n",
       "      <td>0.0</td>\n",
       "      <td>7.0</td>\n",
       "      <td>24.640</td>\n",
       "    </tr>\n",
       "    <tr>\n",
       "      <th>22214</th>\n",
       "      <td>31.0</td>\n",
       "      <td>75</td>\n",
       "      <td>3.0</td>\n",
       "      <td>6</td>\n",
       "      <td>8.0</td>\n",
       "      <td>NaN</td>\n",
       "      <td>0.0</td>\n",
       "      <td>1.0</td>\n",
       "      <td>1.0</td>\n",
       "      <td>0.0</td>\n",
       "      <td>363.0</td>\n",
       "      <td>13.500</td>\n",
       "    </tr>\n",
       "    <tr>\n",
       "      <th>6454</th>\n",
       "      <td>234.0</td>\n",
       "      <td>83</td>\n",
       "      <td>3.0</td>\n",
       "      <td>29</td>\n",
       "      <td>45.0</td>\n",
       "      <td>NaN</td>\n",
       "      <td>0.0</td>\n",
       "      <td>3.0</td>\n",
       "      <td>0.0</td>\n",
       "      <td>0.0</td>\n",
       "      <td>1.0</td>\n",
       "      <td>72.210</td>\n",
       "    </tr>\n",
       "    <tr>\n",
       "      <th>18543</th>\n",
       "      <td>26.0</td>\n",
       "      <td>88</td>\n",
       "      <td>4.0</td>\n",
       "      <td>8</td>\n",
       "      <td>6.0</td>\n",
       "      <td>NaN</td>\n",
       "      <td>0.0</td>\n",
       "      <td>1.0</td>\n",
       "      <td>1.0</td>\n",
       "      <td>0.0</td>\n",
       "      <td>39.0</td>\n",
       "      <td>28.160</td>\n",
       "    </tr>\n",
       "    <tr>\n",
       "      <th>6433</th>\n",
       "      <td>199.0</td>\n",
       "      <td>84</td>\n",
       "      <td>3.5</td>\n",
       "      <td>30</td>\n",
       "      <td>53.0</td>\n",
       "      <td>NaN</td>\n",
       "      <td>0.0</td>\n",
       "      <td>3.0</td>\n",
       "      <td>0.0</td>\n",
       "      <td>0.0</td>\n",
       "      <td>161.0</td>\n",
       "      <td>88.200</td>\n",
       "    </tr>\n",
       "    <tr>\n",
       "      <th>2477</th>\n",
       "      <td>302.0</td>\n",
       "      <td>93</td>\n",
       "      <td>3.5</td>\n",
       "      <td>60</td>\n",
       "      <td>27.0</td>\n",
       "      <td>NaN</td>\n",
       "      <td>0.0</td>\n",
       "      <td>0.0</td>\n",
       "      <td>0.0</td>\n",
       "      <td>0.0</td>\n",
       "      <td>16.0</td>\n",
       "      <td>195.300</td>\n",
       "    </tr>\n",
       "    <tr>\n",
       "      <th>30262</th>\n",
       "      <td>60.0</td>\n",
       "      <td>100</td>\n",
       "      <td>3.0</td>\n",
       "      <td>2</td>\n",
       "      <td>15.0</td>\n",
       "      <td>NaN</td>\n",
       "      <td>0.0</td>\n",
       "      <td>2.0</td>\n",
       "      <td>1.0</td>\n",
       "      <td>0.0</td>\n",
       "      <td>1.0</td>\n",
       "      <td>6.000</td>\n",
       "    </tr>\n",
       "    <tr>\n",
       "      <th>26063</th>\n",
       "      <td>219.0</td>\n",
       "      <td>33</td>\n",
       "      <td>1.0</td>\n",
       "      <td>3</td>\n",
       "      <td>8.0</td>\n",
       "      <td>NaN</td>\n",
       "      <td>0.0</td>\n",
       "      <td>0.0</td>\n",
       "      <td>0.0</td>\n",
       "      <td>0.0</td>\n",
       "      <td>3.0</td>\n",
       "      <td>0.990</td>\n",
       "    </tr>\n",
       "    <tr>\n",
       "      <th>26067</th>\n",
       "      <td>149.0</td>\n",
       "      <td>67</td>\n",
       "      <td>3.0</td>\n",
       "      <td>3</td>\n",
       "      <td>16.0</td>\n",
       "      <td>NaN</td>\n",
       "      <td>0.0</td>\n",
       "      <td>0.0</td>\n",
       "      <td>0.0</td>\n",
       "      <td>0.0</td>\n",
       "      <td>7.0</td>\n",
       "      <td>6.030</td>\n",
       "    </tr>\n",
       "    <tr>\n",
       "      <th>22181</th>\n",
       "      <td>66.0</td>\n",
       "      <td>67</td>\n",
       "      <td>3.5</td>\n",
       "      <td>6</td>\n",
       "      <td>16.0</td>\n",
       "      <td>NaN</td>\n",
       "      <td>0.0</td>\n",
       "      <td>3.0</td>\n",
       "      <td>2.0</td>\n",
       "      <td>0.0</td>\n",
       "      <td>0.0</td>\n",
       "      <td>14.070</td>\n",
       "    </tr>\n",
       "    <tr>\n",
       "      <th>14041</th>\n",
       "      <td>10.0</td>\n",
       "      <td>92</td>\n",
       "      <td>4.0</td>\n",
       "      <td>13</td>\n",
       "      <td>2.0</td>\n",
       "      <td>NaN</td>\n",
       "      <td>0.0</td>\n",
       "      <td>1.0</td>\n",
       "      <td>0.0</td>\n",
       "      <td>0.0</td>\n",
       "      <td>8.0</td>\n",
       "      <td>47.840</td>\n",
       "    </tr>\n",
       "    <tr>\n",
       "      <th>22168</th>\n",
       "      <td>40.0</td>\n",
       "      <td>86</td>\n",
       "      <td>3.0</td>\n",
       "      <td>6</td>\n",
       "      <td>10.0</td>\n",
       "      <td>NaN</td>\n",
       "      <td>0.0</td>\n",
       "      <td>3.0</td>\n",
       "      <td>2.0</td>\n",
       "      <td>0.0</td>\n",
       "      <td>103.0</td>\n",
       "      <td>15.480</td>\n",
       "    </tr>\n",
       "    <tr>\n",
       "      <th>14027</th>\n",
       "      <td>145.0</td>\n",
       "      <td>83</td>\n",
       "      <td>3.0</td>\n",
       "      <td>13</td>\n",
       "      <td>37.0</td>\n",
       "      <td>NaN</td>\n",
       "      <td>0.0</td>\n",
       "      <td>0.0</td>\n",
       "      <td>0.0</td>\n",
       "      <td>0.0</td>\n",
       "      <td>4.0</td>\n",
       "      <td>32.370</td>\n",
       "    </tr>\n",
       "    <tr>\n",
       "      <th>26100</th>\n",
       "      <td>4.0</td>\n",
       "      <td>100</td>\n",
       "      <td>0.0</td>\n",
       "      <td>3</td>\n",
       "      <td>0.0</td>\n",
       "      <td>1.0</td>\n",
       "      <td>0.0</td>\n",
       "      <td>0.0</td>\n",
       "      <td>0.0</td>\n",
       "      <td>0.0</td>\n",
       "      <td>5.0</td>\n",
       "      <td>0.000</td>\n",
       "    </tr>\n",
       "    <tr>\n",
       "      <th>22150</th>\n",
       "      <td>304.0</td>\n",
       "      <td>100</td>\n",
       "      <td>3.5</td>\n",
       "      <td>6</td>\n",
       "      <td>81.0</td>\n",
       "      <td>NaN</td>\n",
       "      <td>0.0</td>\n",
       "      <td>3.0</td>\n",
       "      <td>1.0</td>\n",
       "      <td>0.0</td>\n",
       "      <td>46.0</td>\n",
       "      <td>21.000</td>\n",
       "    </tr>\n",
       "    <tr>\n",
       "      <th>6388</th>\n",
       "      <td>389.0</td>\n",
       "      <td>89</td>\n",
       "      <td>4.0</td>\n",
       "      <td>30</td>\n",
       "      <td>34.0</td>\n",
       "      <td>NaN</td>\n",
       "      <td>0.0</td>\n",
       "      <td>1.0</td>\n",
       "      <td>1.0</td>\n",
       "      <td>0.0</td>\n",
       "      <td>12.0</td>\n",
       "      <td>106.800</td>\n",
       "    </tr>\n",
       "    <tr>\n",
       "      <th>26115</th>\n",
       "      <td>192.0</td>\n",
       "      <td>67</td>\n",
       "      <td>3.5</td>\n",
       "      <td>3</td>\n",
       "      <td>22.0</td>\n",
       "      <td>NaN</td>\n",
       "      <td>0.0</td>\n",
       "      <td>2.0</td>\n",
       "      <td>1.0</td>\n",
       "      <td>0.0</td>\n",
       "      <td>6.0</td>\n",
       "      <td>7.035</td>\n",
       "    </tr>\n",
       "    <tr>\n",
       "      <th>10449</th>\n",
       "      <td>12.0</td>\n",
       "      <td>89</td>\n",
       "      <td>4.0</td>\n",
       "      <td>18</td>\n",
       "      <td>3.0</td>\n",
       "      <td>NaN</td>\n",
       "      <td>0.0</td>\n",
       "      <td>1.0</td>\n",
       "      <td>0.0</td>\n",
       "      <td>0.0</td>\n",
       "      <td>66.0</td>\n",
       "      <td>64.080</td>\n",
       "    </tr>\n",
       "    <tr>\n",
       "      <th>28425</th>\n",
       "      <td>143.0</td>\n",
       "      <td>50</td>\n",
       "      <td>4.0</td>\n",
       "      <td>2</td>\n",
       "      <td>36.0</td>\n",
       "      <td>NaN</td>\n",
       "      <td>0.0</td>\n",
       "      <td>1.0</td>\n",
       "      <td>1.0</td>\n",
       "      <td>0.0</td>\n",
       "      <td>230.0</td>\n",
       "      <td>4.000</td>\n",
       "    </tr>\n",
       "  </tbody>\n",
       "</table>\n",
       "<p>24146 rows × 12 columns</p>\n",
       "</div>"
      ],
      "text/plain": [
       "       Calories  Make_Again#  Rating  Reviews  Car_val  Cho_val  Fat_val  \\\n",
       "9999      983.0           94     4.0       19      3.0    204.0     92.0   \n",
       "22205    1590.0           60     2.5        6    161.0    549.0     92.0   \n",
       "2156     1207.0           83     3.0       65     25.0    286.0     92.0   \n",
       "772      1361.0           82     3.0      110      7.0    434.0     92.0   \n",
       "5731     1062.0           87     3.0       33     41.0     64.0     92.0   \n",
       "25071     842.0          100     2.5        4      7.0      5.0     92.0   \n",
       "10898    1691.0           94     3.0       17    168.0    129.0     92.0   \n",
       "11802    1025.0           94     3.5       16     11.0    209.0     92.0   \n",
       "6490     1232.0           81     4.0       29      4.0    362.0     92.0   \n",
       "20319     975.0          100     3.0        7      2.0    173.0     92.0   \n",
       "360      1150.0           95     3.5      154      9.0    376.0     92.0   \n",
       "23963    1184.0          100     4.0        4     71.0     79.0     92.0   \n",
       "14729    1355.0           78     3.5       12     32.0    355.0     92.0   \n",
       "7120     1055.0           85     3.5       27     14.0    173.0     92.0   \n",
       "16337    1051.0           78     3.5       10     23.0    168.0     92.0   \n",
       "12951    1185.0          100     3.5       14     65.0    224.0     92.0   \n",
       "2711     1061.0           91     3.5       56      NaN    234.0     92.0   \n",
       "23759     978.0           80     3.0        5      2.0    173.0     92.0   \n",
       "28112     840.0          100     2.5        2      7.0    244.0     92.0   \n",
       "28314    1292.0          100     3.5        2     97.0    122.0     92.0   \n",
       "304      1180.0           89     3.5      168     16.0    426.0     91.0   \n",
       "7886     1034.0           91     3.5       25     17.0    189.0     91.0   \n",
       "16305    1181.0           89     4.0       10     56.0    172.0     91.0   \n",
       "24140    1632.0           50     3.5        4    119.0    234.0     91.0   \n",
       "13682    1875.0           70     2.5       13    229.0      NaN     91.0   \n",
       "16600    1167.0          100     3.5       10     47.0    176.0     91.0   \n",
       "18208    1011.0          100     4.0        8      6.0    187.0     91.0   \n",
       "26022    2351.0          100     3.5        3    345.0    573.0     91.0   \n",
       "16874    1672.0          100     3.5       10    131.0    232.0     91.0   \n",
       "22093    1348.0          100     4.0        6    131.0    184.0     91.0   \n",
       "...         ...          ...     ...      ...      ...      ...      ...   \n",
       "26208     181.0          100     4.0        3     47.0      NaN      0.0   \n",
       "30246     264.0          100     3.5        2     45.0      NaN      0.0   \n",
       "30258     205.0          100     4.0        2     24.0      NaN      0.0   \n",
       "6501      270.0           90     3.5       29     70.0      NaN      0.0   \n",
       "22198      77.0           50     1.5        6     18.0      NaN      0.0   \n",
       "22235     167.0           83     3.5        6     43.0      NaN      0.0   \n",
       "14102     155.0          100     4.0       13     42.0      NaN      0.0   \n",
       "14101     131.0           92     3.5       13     22.0      NaN      0.0   \n",
       "10348     170.0           95     3.5       19     41.0      NaN      0.0   \n",
       "18522     845.0           83     3.0        8    146.0      NaN      0.0   \n",
       "30334      60.0          100     3.0        1     15.0      NaN      0.0   \n",
       "18529     251.0           88     3.5        8     62.0      NaN      0.0   \n",
       "22214      31.0           75     3.0        6      8.0      NaN      0.0   \n",
       "6454      234.0           83     3.0       29     45.0      NaN      0.0   \n",
       "18543      26.0           88     4.0        8      6.0      NaN      0.0   \n",
       "6433      199.0           84     3.5       30     53.0      NaN      0.0   \n",
       "2477      302.0           93     3.5       60     27.0      NaN      0.0   \n",
       "30262      60.0          100     3.0        2     15.0      NaN      0.0   \n",
       "26063     219.0           33     1.0        3      8.0      NaN      0.0   \n",
       "26067     149.0           67     3.0        3     16.0      NaN      0.0   \n",
       "22181      66.0           67     3.5        6     16.0      NaN      0.0   \n",
       "14041      10.0           92     4.0       13      2.0      NaN      0.0   \n",
       "22168      40.0           86     3.0        6     10.0      NaN      0.0   \n",
       "14027     145.0           83     3.0       13     37.0      NaN      0.0   \n",
       "26100       4.0          100     0.0        3      0.0      1.0      0.0   \n",
       "22150     304.0          100     3.5        6     81.0      NaN      0.0   \n",
       "6388      389.0           89     4.0       30     34.0      NaN      0.0   \n",
       "26115     192.0           67     3.5        3     22.0      NaN      0.0   \n",
       "10449      12.0           89     4.0       18      3.0      NaN      0.0   \n",
       "28425     143.0           50     4.0        2     36.0      NaN      0.0   \n",
       "\n",
       "       Fib_val  Pro_val  Sat_val  Sod_val    score  \n",
       "9999       1.0     34.0     42.0    138.0   71.440  \n",
       "22205      8.0     35.0     44.0    598.0    9.000  \n",
       "2156       4.0     68.0     38.0    688.0  161.850  \n",
       "772        3.0    127.0     39.0    653.0  270.600  \n",
       "5731       9.0     27.0     10.0    405.0   86.130  \n",
       "25071      3.0      4.0     13.0   1973.0   10.000  \n",
       "10898     10.0     45.0     30.0   1476.0   47.940  \n",
       "11802      1.0     36.0     43.0    537.0   52.640  \n",
       "6490       0.0     88.0     32.0    336.0   93.960  \n",
       "20319      0.0     33.0     36.0    129.0   21.000  \n",
       "360        2.0     68.0     39.0    245.0  512.050  \n",
       "23963     16.0     28.0     23.0   1806.0   16.000  \n",
       "14729      1.0     90.0     32.0   1797.0   32.760  \n",
       "7120       2.0     34.0     37.0    423.0   80.325  \n",
       "16337      5.0     37.0     36.0    293.0   27.300  \n",
       "12951      5.0     28.0     18.0   1196.0   49.000  \n",
       "2711       NaN     54.0     38.0    975.0  178.360  \n",
       "23759      1.0     33.0     36.0    620.0   12.000  \n",
       "28112      NaN      1.0     58.0    412.0    5.000  \n",
       "28314      3.0     21.0     33.0   1445.0    7.000  \n",
       "304        2.0     73.0     21.0   2693.0  523.320  \n",
       "7886       2.0     35.0     39.0    341.0   79.625  \n",
       "16305      3.0     32.0     30.0   1330.0   35.600  \n",
       "24140     11.0     65.0     33.0    249.0    7.000  \n",
       "13682     23.0     43.0     13.0   1805.0   22.750  \n",
       "16600     10.0     33.0     30.0    854.0   35.000  \n",
       "18208      1.0     41.0     38.0    180.0   32.000  \n",
       "26022      4.0     48.0     35.0   1388.0   10.500  \n",
       "16874     16.0     82.0     45.0   3507.0   35.000  \n",
       "22093     11.0     14.0     57.0    118.0   24.000  \n",
       "...        ...      ...      ...      ...      ...  \n",
       "26208      3.0      1.0      0.0      3.0   12.000  \n",
       "30246      NaN      0.0      0.0      9.0    7.000  \n",
       "30258      1.0      0.0      0.0     10.0    8.000  \n",
       "6501       2.0      1.0      0.0      9.0   91.350  \n",
       "22198      4.0      3.0      0.0     13.0    4.500  \n",
       "22235      1.0      1.0      0.0     14.0   17.430  \n",
       "14102      3.0      1.0      0.0      7.0   52.000  \n",
       "14101      1.0      0.0      0.0      8.0   41.860  \n",
       "10348      6.0      1.0      NaN      4.0   63.175  \n",
       "18522      7.0      1.0      0.0     23.0   19.920  \n",
       "30334      1.0      0.0      0.0      2.0    3.000  \n",
       "18529      9.0      1.0      0.0      7.0   24.640  \n",
       "22214      1.0      1.0      0.0    363.0   13.500  \n",
       "6454       3.0      0.0      0.0      1.0   72.210  \n",
       "18543      1.0      1.0      0.0     39.0   28.160  \n",
       "6433       3.0      0.0      0.0    161.0   88.200  \n",
       "2477       0.0      0.0      0.0     16.0  195.300  \n",
       "30262      2.0      1.0      0.0      1.0    6.000  \n",
       "26063      0.0      0.0      0.0      3.0    0.990  \n",
       "26067      0.0      0.0      0.0      7.0    6.030  \n",
       "22181      3.0      2.0      0.0      0.0   14.070  \n",
       "14041      1.0      0.0      0.0      8.0   47.840  \n",
       "22168      3.0      2.0      0.0    103.0   15.480  \n",
       "14027      0.0      0.0      0.0      4.0   32.370  \n",
       "26100      0.0      0.0      0.0      5.0    0.000  \n",
       "22150      3.0      1.0      0.0     46.0   21.000  \n",
       "6388       1.0      1.0      0.0     12.0  106.800  \n",
       "26115      2.0      1.0      0.0      6.0    7.035  \n",
       "10449      1.0      0.0      0.0     66.0   64.080  \n",
       "28425      1.0      1.0      0.0    230.0    4.000  \n",
       "\n",
       "[24146 rows x 12 columns]"
      ]
     },
     "execution_count": 876,
     "metadata": {},
     "output_type": "execute_result"
    }
   ],
   "source": [
    "all_nutritions_no_fat.sort_values('Fat_val', ascending=False)"
   ]
  },
  {
   "cell_type": "code",
   "execution_count": null,
   "metadata": {},
   "outputs": [],
   "source": []
  },
  {
   "cell_type": "markdown",
   "metadata": {},
   "source": [
    "# SUGAR"
   ]
  },
  {
   "cell_type": "code",
   "execution_count": 737,
   "metadata": {},
   "outputs": [],
   "source": [
    "#extract all recipes with 'Winter' tag\n",
    "def find_sugar(x):\n",
    "    col='Ingredient #'\n",
    "    for _ in range(1,29):\n",
    "        for i in str(x[col+str(_)]).split(' '):\n",
    "            if i=='sugar' or i == 'Sugar': return True\n",
    "    return False\n",
    "         \n",
    "mask = recipe_table.apply(find_sugar,axis=1)\n",
    "#print(mask)\n",
    "sugar = recipe_table[mask]\n",
    "\n",
    "\n",
    "#extract all recipes with 'Winter' tag\n",
    "def find_not_sugar(x):\n",
    "    col='Ingredient #'\n",
    "    for _ in range(1,29):\n",
    "        for i in str(x[col+str(_)]).split(' '):\n",
    "            if i=='sugar' or i == 'Sugar': return False\n",
    "    return True\n",
    "         \n",
    "mask = recipe_table.apply(find_not_sugar,axis=1)\n",
    "#print(mask)\n",
    "no_sugar = recipe_table[mask]\n",
    "\n"
   ]
  },
  {
   "cell_type": "code",
   "execution_count": 708,
   "metadata": {},
   "outputs": [
    {
     "data": {
      "text/plain": [
       "Calories                                                            1356\n",
       "Carbohydrates                                                  68 g(23%)\n",
       "Cholesterol                                                 373 mg(124%)\n",
       "Fat                                                           86 g(133%)\n",
       "Fiber                                                           5 g(20%)\n",
       "Ingredient #1          1 2 1/2-pound piece beef tenderloin, well trim...\n",
       "Ingredient #2                                2 tablespoons vegetable oil\n",
       "Make_Again                                                           91%\n",
       "Monounsaturated Fat                                                 34 g\n",
       "Polyunsaturated Fat                                                  6 g\n",
       "Protein                                                       72 g(145%)\n",
       "Rating                                                               3.5\n",
       "Reviews                                                              501\n",
       "Saturated Fat                                                 37 g(186%)\n",
       "Sodium                                                       451 mg(19%)\n",
       "Tag #1                                          Eastern European/Russian\n",
       "Tag #10                                                      Peanut Free\n",
       "Tag #11                                                    Tree Nut Free\n",
       "Tag #12                                                         Soy Free\n",
       "Tag #2                                                              Beef\n",
       "Tag #3                                                             Dairy\n",
       "Tag #4                                                          Mushroom\n",
       "Tag #5                                                             Pasta\n",
       "Tag #6                                                            Dinner\n",
       "Tag #7                                                              Fall\n",
       "Tag #8                                                           Shallot\n",
       "Tag #9                                                       Bon Appétit\n",
       "Title                                             Beef Stroganoff recipe\n",
       "_id                                             5d7704f56195baeafe9d48c6\n",
       "Name: 2, dtype: object"
      ]
     },
     "execution_count": 708,
     "metadata": {},
     "output_type": "execute_result"
    }
   ],
   "source": [
    "not_sugar.iloc[2].dropna()"
   ]
  },
  {
   "cell_type": "code",
   "execution_count": 710,
   "metadata": {},
   "outputs": [],
   "source": [
    "# not_sugar[['Ingredient #1', 'Ingredient #10', 'Ingredient #11', 'Ingredient #12',\n",
    "#        'Ingredient #13', 'Ingredient #14', 'Ingredient #15', 'Ingredient #16',\n",
    "#        'Ingredient #17', 'Ingredient #18', 'Ingredient #19', 'Ingredient #2',\n",
    "#        'Ingredient #20', 'Ingredient #21', 'Ingredient #22', 'Ingredient #23',\n",
    "#        'Ingredient #24', 'Ingredient #25', 'Ingredient #26', 'Ingredient #27',\n",
    "#        'Ingredient #28', 'Ingredient #29', 'Ingredient #3', 'Ingredient #4',\n",
    "#        'Ingredient #5', 'Ingredient #6', 'Ingredient #7', 'Ingredient #8',\n",
    "#        'Ingredient #9']]"
   ]
  },
  {
   "cell_type": "code",
   "execution_count": 711,
   "metadata": {},
   "outputs": [],
   "source": [
    "# sugar[['Ingredient #1', 'Ingredient #10', 'Ingredient #11', 'Ingredient #12',\n",
    "#        'Ingredient #13', 'Ingredient #14', 'Ingredient #15', 'Ingredient #16',\n",
    "#        'Ingredient #17', 'Ingredient #18', 'Ingredient #19', 'Ingredient #2',\n",
    "#        'Ingredient #20', 'Ingredient #21', 'Ingredient #22', 'Ingredient #23',\n",
    "#        'Ingredient #24', 'Ingredient #25', 'Ingredient #26', 'Ingredient #27',\n",
    "#        'Ingredient #28', 'Ingredient #29', 'Ingredient #3', 'Ingredient #4',\n",
    "#        'Ingredient #5', 'Ingredient #6', 'Ingredient #7', 'Ingredient #8',\n",
    "#        'Ingredient #9']]"
   ]
  },
  {
   "cell_type": "code",
   "execution_count": null,
   "metadata": {},
   "outputs": [],
   "source": []
  },
  {
   "cell_type": "code",
   "execution_count": null,
   "metadata": {},
   "outputs": [],
   "source": []
  },
  {
   "cell_type": "code",
   "execution_count": 714,
   "metadata": {},
   "outputs": [],
   "source": [
    "sugar_yes = sugar[['Calories', 'Carbohydrates', 'Cholesterol', \n",
    "                           'Fat', 'Fiber','Make_Again', 'Monounsaturated Fat',\n",
    "                           'Polyunsaturated Fat', 'Protein', 'Rating', 'Reviews', \n",
    "                           'Saturated Fat', 'Sodium', 'Title', '_id']]"
   ]
  },
  {
   "cell_type": "code",
   "execution_count": 715,
   "metadata": {},
   "outputs": [],
   "source": [
    "sugar_no = not_sugar[['Calories', 'Carbohydrates', 'Cholesterol', \n",
    "                           'Fat', 'Fiber','Make_Again', 'Monounsaturated Fat',\n",
    "                           'Polyunsaturated Fat', 'Protein', 'Rating', 'Reviews', \n",
    "                           'Saturated Fat', 'Sodium', 'Title', '_id']]"
   ]
  },
  {
   "cell_type": "code",
   "execution_count": 719,
   "metadata": {},
   "outputs": [],
   "source": [
    "sugar_no = sugar_no[['Calories', 'Make_Again#', 'Rating', 'Reviews',\n",
    "                                      'Car_val', 'Cho_val', 'Fat_val', 'Fib_val', 'Pro_val', \n",
    "                                      'Sat_val', 'Sod_val']].apply(pd.to_numeric)\n",
    "sugar_yes = sugar_yes[['Calories', 'Make_Again#', 'Rating', 'Reviews',\n",
    "                                      'Car_val', 'Cho_val', 'Fat_val', 'Fib_val', 'Pro_val', \n",
    "                                      'Sat_val', 'Sod_val']].apply(pd.to_numeric)\n",
    "\n",
    "\n",
    "sugar_no['score'] = sugar_no['Rating'] * sugar_no['Reviews'] * sugar_no['Make_Again#']/100\n",
    "\n",
    "sugar_yes['score'] = sugar_yes['Rating'] * sugar_yes['Reviews'] * sugar_yes['Make_Again#']/100\n",
    "\n",
    "\n",
    "\n"
   ]
  },
  {
   "cell_type": "code",
   "execution_count": 744,
   "metadata": {},
   "outputs": [],
   "source": [
    "# sugar_yes"
   ]
  },
  {
   "cell_type": "code",
   "execution_count": 740,
   "metadata": {},
   "outputs": [],
   "source": [
    "def find_toofat(x):\n",
    "    if x['Calories']<2800 and x['Fat_val']<93: return True\n",
    "    return False\n",
    "         \n",
    "mask = sugar_yes.apply(find_toofat,axis=1)\n",
    "#print(mask)\n",
    "\n",
    "sugary = sugar_yes[mask]\n",
    "\n",
    "\n",
    "mask = sugar_no.apply(find_toofat,axis=1)\n",
    "#print(mask)\n",
    "\n",
    "sugarn = sugar_no[mask]"
   ]
  },
  {
   "cell_type": "code",
   "execution_count": 766,
   "metadata": {},
   "outputs": [],
   "source": [
    "sugary1 = sugary.dropna()\n",
    "sugarn1= sugarn.dropna()"
   ]
  },
  {
   "cell_type": "code",
   "execution_count": 949,
   "metadata": {},
   "outputs": [
    {
     "name": "stdout",
     "output_type": "stream",
     "text": [
      "(5852, 12)\n",
      "(13146, 12)\n"
     ]
    }
   ],
   "source": [
    "print(sugary1.shape)\n",
    "print(sugarn1.shape)"
   ]
  },
  {
   "cell_type": "code",
   "execution_count": 979,
   "metadata": {
    "scrolled": true
   },
   "outputs": [
    {
     "data": {
      "image/png": "[encoded data removed]",
      "text/plain": [
       "<Figure size 1080x360 with 1 Axes>"
      ]
     },
     "metadata": {
      "needs_background": "light"
     },
     "output_type": "display_data"
    }
   ],
   "source": [
    "nutrition_list = ['Calories', 'Car_val', 'Fat_val']\n",
    "def nutrition_bar_graph(nutrition_list):\n",
    "    '''\n",
    "    Plots nutrition into bar graph\n",
    "    \n",
    "    Arr: list of nutrtions\n",
    "        \n",
    "    returns: graph of mean and std comparison'''\n",
    "    labels = []\n",
    "    summer_means = []\n",
    "    winter_means = []\n",
    "    for i in nutrition_list:\n",
    "        labels.append(i + ' Mean')\n",
    "        labels.append(i + ' STD')\n",
    "        summer_means.append(round(sugary1[i].mean()))\n",
    "        summer_means.append(round(sugary1[i].std()))\n",
    "        winter_means.append(round(sugarn1[i].mean()))\n",
    "        winter_means.append(round(sugarn1[i].std()))\n",
    "        \n",
    "    x = np.arange(len(labels))\n",
    "    width = .45\n",
    "\n",
    "    fig,ax=plt.subplots(figsize=(15,5))\n",
    "    rects1 = ax.bar(x - width/2, summer_means, width, label='Sugar')\n",
    "    rects2 = ax.bar(x + width/2, winter_means, width, label='Sugarless')\n",
    "\n",
    "    ax.set_ylabel('Values',fontsize=20)\n",
    "    ax.set_title('Sugary Nutrition vs Sugarless Nutrition',fontsize=25)\n",
    "    ax.set_xticks(x)\n",
    "    ax.set_xticklabels(labels,fontsize=15)\n",
    "    ax.legend(fontsize=20)\n",
    "\n",
    "    def autolabel(rects):\n",
    "        for rect in rects:\n",
    "            height = rect.get_height()\n",
    "            ax.annotate('{}'.format(height),\n",
    "                       xy=(rect.get_x() + rect.get_width() / 2, height),\n",
    "                       xytext=(0,3),\n",
    "                       textcoords = 'offset points',\n",
    "                       ha='center', va='bottom',fontsize=20)\n",
    "\n",
    "    autolabel(rects1)\n",
    "    autolabel(rects2)\n",
    "\n",
    "    fig.tight_layout()\n",
    "    plt.show()\n",
    "\n",
    "nutrition_bar_graph(nutrition_list)"
   ]
  },
  {
   "cell_type": "code",
   "execution_count": 977,
   "metadata": {},
   "outputs": [],
   "source": [
    "sugary_sample = []\n",
    "for i,v in enumerate(sugary1['Calories']):\n",
    "    if v % 1 != 0:\n",
    "        continue\n",
    "    else:\n",
    "        sugary_sample.append(v)\n",
    "        if len(sugary_sample) == 5000:\n",
    "            break\n",
    "\n",
    "        \n",
    "sugarn_sample = []\n",
    "for i,v in enumerate(sugarn1['Calories']):\n",
    "    if v % 1 != 0:\n",
    "        continue\n",
    "    else:\n",
    "        sugarn_sample.append(v)\n",
    "        if len(sugarn_sample) == 5000:\n",
    "            break"
   ]
  },
  {
   "cell_type": "code",
   "execution_count": 953,
   "metadata": {},
   "outputs": [
    {
     "data": {
      "text/html": [
       "<div>\n",
       "<style scoped>\n",
       "    .dataframe tbody tr th:only-of-type {\n",
       "        vertical-align: middle;\n",
       "    }\n",
       "\n",
       "    .dataframe tbody tr th {\n",
       "        vertical-align: top;\n",
       "    }\n",
       "\n",
       "    .dataframe thead th {\n",
       "        text-align: right;\n",
       "    }\n",
       "</style>\n",
       "<table border=\"1\" class=\"dataframe\">\n",
       "  <thead>\n",
       "    <tr style=\"text-align: right;\">\n",
       "      <th></th>\n",
       "      <th>Calories</th>\n",
       "      <th>Make_Again#</th>\n",
       "      <th>Rating</th>\n",
       "      <th>Reviews</th>\n",
       "      <th>Car_val</th>\n",
       "      <th>Cho_val</th>\n",
       "      <th>Fat_val</th>\n",
       "      <th>Fib_val</th>\n",
       "      <th>Pro_val</th>\n",
       "      <th>Sat_val</th>\n",
       "      <th>Sod_val</th>\n",
       "      <th>score</th>\n",
       "    </tr>\n",
       "  </thead>\n",
       "  <tbody>\n",
       "    <tr>\n",
       "      <th>count</th>\n",
       "      <td>5852.000000</td>\n",
       "      <td>5852.000000</td>\n",
       "      <td>5852.000000</td>\n",
       "      <td>5852.000000</td>\n",
       "      <td>5852.000000</td>\n",
       "      <td>5852.000000</td>\n",
       "      <td>5852.000000</td>\n",
       "      <td>5852.000000</td>\n",
       "      <td>5852.000000</td>\n",
       "      <td>5852.000000</td>\n",
       "      <td>5852.000000</td>\n",
       "      <td>5852.000000</td>\n",
       "    </tr>\n",
       "    <tr>\n",
       "      <th>mean</th>\n",
       "      <td>404.375427</td>\n",
       "      <td>82.727785</td>\n",
       "      <td>3.273582</td>\n",
       "      <td>24.904819</td>\n",
       "      <td>44.086979</td>\n",
       "      <td>88.309809</td>\n",
       "      <td>21.320574</td>\n",
       "      <td>2.688995</td>\n",
       "      <td>10.465653</td>\n",
       "      <td>9.564252</td>\n",
       "      <td>318.797505</td>\n",
       "      <td>75.639086</td>\n",
       "    </tr>\n",
       "    <tr>\n",
       "      <th>std</th>\n",
       "      <td>273.694486</td>\n",
       "      <td>19.907543</td>\n",
       "      <td>0.585385</td>\n",
       "      <td>39.323896</td>\n",
       "      <td>36.503301</td>\n",
       "      <td>102.682553</td>\n",
       "      <td>16.445684</td>\n",
       "      <td>2.849497</td>\n",
       "      <td>16.502255</td>\n",
       "      <td>7.985725</td>\n",
       "      <td>549.920843</td>\n",
       "      <td>128.550886</td>\n",
       "    </tr>\n",
       "    <tr>\n",
       "      <th>min</th>\n",
       "      <td>6.000000</td>\n",
       "      <td>0.000000</td>\n",
       "      <td>0.000000</td>\n",
       "      <td>0.000000</td>\n",
       "      <td>0.000000</td>\n",
       "      <td>0.000000</td>\n",
       "      <td>0.000000</td>\n",
       "      <td>0.000000</td>\n",
       "      <td>0.000000</td>\n",
       "      <td>0.000000</td>\n",
       "      <td>0.000000</td>\n",
       "      <td>0.000000</td>\n",
       "    </tr>\n",
       "    <tr>\n",
       "      <th>25%</th>\n",
       "      <td>219.750000</td>\n",
       "      <td>77.000000</td>\n",
       "      <td>3.000000</td>\n",
       "      <td>5.000000</td>\n",
       "      <td>20.000000</td>\n",
       "      <td>26.000000</td>\n",
       "      <td>9.000000</td>\n",
       "      <td>1.000000</td>\n",
       "      <td>3.000000</td>\n",
       "      <td>4.000000</td>\n",
       "      <td>70.000000</td>\n",
       "      <td>12.000000</td>\n",
       "    </tr>\n",
       "    <tr>\n",
       "      <th>50%</th>\n",
       "      <td>344.000000</td>\n",
       "      <td>88.000000</td>\n",
       "      <td>3.500000</td>\n",
       "      <td>12.000000</td>\n",
       "      <td>37.000000</td>\n",
       "      <td>62.000000</td>\n",
       "      <td>17.000000</td>\n",
       "      <td>2.000000</td>\n",
       "      <td>6.000000</td>\n",
       "      <td>8.000000</td>\n",
       "      <td>169.000000</td>\n",
       "      <td>32.000000</td>\n",
       "    </tr>\n",
       "    <tr>\n",
       "      <th>75%</th>\n",
       "      <td>534.000000</td>\n",
       "      <td>97.000000</td>\n",
       "      <td>3.500000</td>\n",
       "      <td>28.000000</td>\n",
       "      <td>59.000000</td>\n",
       "      <td>124.000000</td>\n",
       "      <td>29.000000</td>\n",
       "      <td>4.000000</td>\n",
       "      <td>10.000000</td>\n",
       "      <td>13.000000</td>\n",
       "      <td>354.000000</td>\n",
       "      <td>83.700000</td>\n",
       "    </tr>\n",
       "    <tr>\n",
       "      <th>max</th>\n",
       "      <td>2682.000000</td>\n",
       "      <td>100.000000</td>\n",
       "      <td>4.000000</td>\n",
       "      <td>484.000000</td>\n",
       "      <td>527.000000</td>\n",
       "      <td>3287.000000</td>\n",
       "      <td>92.000000</td>\n",
       "      <td>39.000000</td>\n",
       "      <td>386.000000</td>\n",
       "      <td>57.000000</td>\n",
       "      <td>15504.000000</td>\n",
       "      <td>1858.560000</td>\n",
       "    </tr>\n",
       "  </tbody>\n",
       "</table>\n",
       "</div>"
      ],
      "text/plain": [
       "          Calories  Make_Again#       Rating      Reviews      Car_val  \\\n",
       "count  5852.000000  5852.000000  5852.000000  5852.000000  5852.000000   \n",
       "mean    404.375427    82.727785     3.273582    24.904819    44.086979   \n",
       "std     273.694486    19.907543     0.585385    39.323896    36.503301   \n",
       "min       6.000000     0.000000     0.000000     0.000000     0.000000   \n",
       "25%     219.750000    77.000000     3.000000     5.000000    20.000000   \n",
       "50%     344.000000    88.000000     3.500000    12.000000    37.000000   \n",
       "75%     534.000000    97.000000     3.500000    28.000000    59.000000   \n",
       "max    2682.000000   100.000000     4.000000   484.000000   527.000000   \n",
       "\n",
       "           Cho_val      Fat_val      Fib_val      Pro_val      Sat_val  \\\n",
       "count  5852.000000  5852.000000  5852.000000  5852.000000  5852.000000   \n",
       "mean     88.309809    21.320574     2.688995    10.465653     9.564252   \n",
       "std     102.682553    16.445684     2.849497    16.502255     7.985725   \n",
       "min       0.000000     0.000000     0.000000     0.000000     0.000000   \n",
       "25%      26.000000     9.000000     1.000000     3.000000     4.000000   \n",
       "50%      62.000000    17.000000     2.000000     6.000000     8.000000   \n",
       "75%     124.000000    29.000000     4.000000    10.000000    13.000000   \n",
       "max    3287.000000    92.000000    39.000000   386.000000    57.000000   \n",
       "\n",
       "            Sod_val        score  \n",
       "count   5852.000000  5852.000000  \n",
       "mean     318.797505    75.639086  \n",
       "std      549.920843   128.550886  \n",
       "min        0.000000     0.000000  \n",
       "25%       70.000000    12.000000  \n",
       "50%      169.000000    32.000000  \n",
       "75%      354.000000    83.700000  \n",
       "max    15504.000000  1858.560000  "
      ]
     },
     "execution_count": 953,
     "metadata": {},
     "output_type": "execute_result"
    }
   ],
   "source": [
    "sugary1.describe()"
   ]
  },
  {
   "cell_type": "code",
   "execution_count": 954,
   "metadata": {
    "scrolled": true
   },
   "outputs": [
    {
     "data": {
      "text/html": [
       "<div>\n",
       "<style scoped>\n",
       "    .dataframe tbody tr th:only-of-type {\n",
       "        vertical-align: middle;\n",
       "    }\n",
       "\n",
       "    .dataframe tbody tr th {\n",
       "        vertical-align: top;\n",
       "    }\n",
       "\n",
       "    .dataframe thead th {\n",
       "        text-align: right;\n",
       "    }\n",
       "</style>\n",
       "<table border=\"1\" class=\"dataframe\">\n",
       "  <thead>\n",
       "    <tr style=\"text-align: right;\">\n",
       "      <th></th>\n",
       "      <th>Calories</th>\n",
       "      <th>Make_Again#</th>\n",
       "      <th>Rating</th>\n",
       "      <th>Reviews</th>\n",
       "      <th>Car_val</th>\n",
       "      <th>Cho_val</th>\n",
       "      <th>Fat_val</th>\n",
       "      <th>Fib_val</th>\n",
       "      <th>Pro_val</th>\n",
       "      <th>Sat_val</th>\n",
       "      <th>Sod_val</th>\n",
       "      <th>score</th>\n",
       "    </tr>\n",
       "  </thead>\n",
       "  <tbody>\n",
       "    <tr>\n",
       "      <th>count</th>\n",
       "      <td>13146.000000</td>\n",
       "      <td>13146.000000</td>\n",
       "      <td>13146.000000</td>\n",
       "      <td>13146.000000</td>\n",
       "      <td>13146.000000</td>\n",
       "      <td>13146.000000</td>\n",
       "      <td>13146.000000</td>\n",
       "      <td>13146.000000</td>\n",
       "      <td>13146.000000</td>\n",
       "      <td>13146.000000</td>\n",
       "      <td>13146.000000</td>\n",
       "      <td>13146.000000</td>\n",
       "    </tr>\n",
       "    <tr>\n",
       "      <th>mean</th>\n",
       "      <td>446.682869</td>\n",
       "      <td>83.923627</td>\n",
       "      <td>3.243648</td>\n",
       "      <td>24.338126</td>\n",
       "      <td>31.574167</td>\n",
       "      <td>101.713221</td>\n",
       "      <td>25.708276</td>\n",
       "      <td>3.737943</td>\n",
       "      <td>22.232618</td>\n",
       "      <td>9.055454</td>\n",
       "      <td>556.973148</td>\n",
       "      <td>73.701411</td>\n",
       "    </tr>\n",
       "    <tr>\n",
       "      <th>std</th>\n",
       "      <td>288.915155</td>\n",
       "      <td>18.850817</td>\n",
       "      <td>0.564723</td>\n",
       "      <td>35.814732</td>\n",
       "      <td>31.302135</td>\n",
       "      <td>134.886185</td>\n",
       "      <td>18.594891</td>\n",
       "      <td>4.081913</td>\n",
       "      <td>22.993688</td>\n",
       "      <td>7.508943</td>\n",
       "      <td>643.800347</td>\n",
       "      <td>117.616218</td>\n",
       "    </tr>\n",
       "    <tr>\n",
       "      <th>min</th>\n",
       "      <td>1.000000</td>\n",
       "      <td>0.000000</td>\n",
       "      <td>0.000000</td>\n",
       "      <td>0.000000</td>\n",
       "      <td>0.000000</td>\n",
       "      <td>0.000000</td>\n",
       "      <td>0.000000</td>\n",
       "      <td>0.000000</td>\n",
       "      <td>0.000000</td>\n",
       "      <td>0.000000</td>\n",
       "      <td>0.000000</td>\n",
       "      <td>0.000000</td>\n",
       "    </tr>\n",
       "    <tr>\n",
       "      <th>25%</th>\n",
       "      <td>239.000000</td>\n",
       "      <td>79.000000</td>\n",
       "      <td>3.000000</td>\n",
       "      <td>5.000000</td>\n",
       "      <td>10.000000</td>\n",
       "      <td>24.000000</td>\n",
       "      <td>12.000000</td>\n",
       "      <td>1.000000</td>\n",
       "      <td>6.000000</td>\n",
       "      <td>4.000000</td>\n",
       "      <td>172.250000</td>\n",
       "      <td>14.000000</td>\n",
       "    </tr>\n",
       "    <tr>\n",
       "      <th>50%</th>\n",
       "      <td>385.000000</td>\n",
       "      <td>89.000000</td>\n",
       "      <td>3.500000</td>\n",
       "      <td>13.000000</td>\n",
       "      <td>24.000000</td>\n",
       "      <td>68.000000</td>\n",
       "      <td>21.000000</td>\n",
       "      <td>3.000000</td>\n",
       "      <td>16.000000</td>\n",
       "      <td>7.000000</td>\n",
       "      <td>398.000000</td>\n",
       "      <td>35.000000</td>\n",
       "    </tr>\n",
       "    <tr>\n",
       "      <th>75%</th>\n",
       "      <td>600.000000</td>\n",
       "      <td>97.000000</td>\n",
       "      <td>3.500000</td>\n",
       "      <td>29.000000</td>\n",
       "      <td>44.000000</td>\n",
       "      <td>139.000000</td>\n",
       "      <td>35.000000</td>\n",
       "      <td>5.000000</td>\n",
       "      <td>32.000000</td>\n",
       "      <td>13.000000</td>\n",
       "      <td>741.000000</td>\n",
       "      <td>84.652500</td>\n",
       "    </tr>\n",
       "    <tr>\n",
       "      <th>max</th>\n",
       "      <td>2732.000000</td>\n",
       "      <td>100.000000</td>\n",
       "      <td>4.000000</td>\n",
       "      <td>501.000000</td>\n",
       "      <td>517.000000</td>\n",
       "      <td>3294.000000</td>\n",
       "      <td>92.000000</td>\n",
       "      <td>145.000000</td>\n",
       "      <td>601.000000</td>\n",
       "      <td>56.000000</td>\n",
       "      <td>14966.000000</td>\n",
       "      <td>1778.480000</td>\n",
       "    </tr>\n",
       "  </tbody>\n",
       "</table>\n",
       "</div>"
      ],
      "text/plain": [
       "           Calories   Make_Again#        Rating       Reviews       Car_val  \\\n",
       "count  13146.000000  13146.000000  13146.000000  13146.000000  13146.000000   \n",
       "mean     446.682869     83.923627      3.243648     24.338126     31.574167   \n",
       "std      288.915155     18.850817      0.564723     35.814732     31.302135   \n",
       "min        1.000000      0.000000      0.000000      0.000000      0.000000   \n",
       "25%      239.000000     79.000000      3.000000      5.000000     10.000000   \n",
       "50%      385.000000     89.000000      3.500000     13.000000     24.000000   \n",
       "75%      600.000000     97.000000      3.500000     29.000000     44.000000   \n",
       "max     2732.000000    100.000000      4.000000    501.000000    517.000000   \n",
       "\n",
       "            Cho_val       Fat_val       Fib_val       Pro_val       Sat_val  \\\n",
       "count  13146.000000  13146.000000  13146.000000  13146.000000  13146.000000   \n",
       "mean     101.713221     25.708276      3.737943     22.232618      9.055454   \n",
       "std      134.886185     18.594891      4.081913     22.993688      7.508943   \n",
       "min        0.000000      0.000000      0.000000      0.000000      0.000000   \n",
       "25%       24.000000     12.000000      1.000000      6.000000      4.000000   \n",
       "50%       68.000000     21.000000      3.000000     16.000000      7.000000   \n",
       "75%      139.000000     35.000000      5.000000     32.000000     13.000000   \n",
       "max     3294.000000     92.000000    145.000000    601.000000     56.000000   \n",
       "\n",
       "            Sod_val         score  \n",
       "count  13146.000000  13146.000000  \n",
       "mean     556.973148     73.701411  \n",
       "std      643.800347    117.616218  \n",
       "min        0.000000      0.000000  \n",
       "25%      172.250000     14.000000  \n",
       "50%      398.000000     35.000000  \n",
       "75%      741.000000     84.652500  \n",
       "max    14966.000000   1778.480000  "
      ]
     },
     "execution_count": 954,
     "metadata": {},
     "output_type": "execute_result"
    }
   ],
   "source": [
    "sugarn1.describe()"
   ]
  },
  {
   "cell_type": "code",
   "execution_count": null,
   "metadata": {},
   "outputs": [],
   "source": [
    "H0(Null Hypothesis) = sugary has higher calorie count than sugarless\n",
    "H1(Alternative Hypothesis) = sugarless has higher calorie count than sugar"
   ]
  },
  {
   "cell_type": "code",
   "execution_count": 978,
   "metadata": {},
   "outputs": [
    {
     "name": "stdout",
     "output_type": "stream",
     "text": [
      "p-value for Sugarless fat > Sugar fat: 0.000000000000000000000000000000000000000000000027172018119198856525906920139888621657682592966506329919943370894469852207531126591621007173002928226861766414916937143093911277702545703505165874958038330078125000000000000000000000000000000000000000000000000000000000000000000000000000000000000000000000\n"
     ]
    }
   ],
   "source": [
    "res = stats.mannwhitneyu(sugarn_sample, sugary_sample, alternative=\"greater\")\n",
    "print(\"p-value for Sugarless Calories > Sugar Calories: {:2.300f}\".format(res.pvalue))"
   ]
  },
  {
   "cell_type": "code",
   "execution_count": 985,
   "metadata": {},
   "outputs": [
    {
     "data": {
      "text/plain": [
       "pandas.core.series.Series"
      ]
     },
     "execution_count": 985,
     "metadata": {},
     "output_type": "execute_result"
    }
   ],
   "source": [
    "type(s2)"
   ]
  },
  {
   "cell_type": "code",
   "execution_count": 986,
   "metadata": {},
   "outputs": [
    {
     "data": {
      "image/png": "[encoded data removed]",
      "text/plain": [
       "<Figure size 576x576 with 1 Axes>"
      ]
     },
     "metadata": {
      "needs_background": "light"
     },
     "output_type": "display_data"
    }
   ],
   "source": [
    "fig, axes = plt.subplots(figsize=(8,8))\n",
    "s1=list(sugary1['Calories'].dropna())\n",
    "s2=list(sugarn1['Calories'].dropna())\n",
    "axes.violinplot(dataset = [s1,s2])\n",
    "axes.set_title('Summer Fat vs Winter Fat')\n",
    "\n",
    "axes.yaxis.grid(True)\n",
    "axes.set_xlabel('Season')\n",
    "axes.set_ylabel('Fat Dist')\n",
    "\n",
    "plt.show()"
   ]
  },
  {
   "cell_type": "code",
   "execution_count": 987,
   "metadata": {},
   "outputs": [
    {
     "data": {
      "text/plain": [
       "<matplotlib.axes._subplots.AxesSubplot at 0x1a42b68a58>"
      ]
     },
     "execution_count": 987,
     "metadata": {},
     "output_type": "execute_result"
    },
    {
     "data": {
      "image/png": "[encoded data removed]",
      "text/plain": [
       "<Figure size 432x288 with 1 Axes>"
      ]
     },
     "metadata": {
      "needs_background": "light"
     },
     "output_type": "display_data"
    }
   ],
   "source": [
    "sns.boxplot(x=s1)"
   ]
  },
  {
   "cell_type": "code",
   "execution_count": 988,
   "metadata": {},
   "outputs": [
    {
     "data": {
      "text/plain": [
       "<matplotlib.axes._subplots.AxesSubplot at 0x1a42b5c978>"
      ]
     },
     "execution_count": 988,
     "metadata": {},
     "output_type": "execute_result"
    },
    {
     "data": {
      "image/png": "[encoded data removed]",
      "text/plain": [
       "<Figure size 432x288 with 1 Axes>"
      ]
     },
     "metadata": {
      "needs_background": "light"
     },
     "output_type": "display_data"
    }
   ],
   "source": [
    "sns.boxplot(x=s2)"
   ]
  },
  {
   "cell_type": "code",
   "execution_count": null,
   "metadata": {},
   "outputs": [],
   "source": []
  },
  {
   "cell_type": "code",
   "execution_count": null,
   "metadata": {},
   "outputs": [],
   "source": [
    "H0(Null Hypothesis) = sugar has higher fat content than sugarless\n",
    "H1(Alternative Hypothesis) = suglarless has higher fat content than sugar"
   ]
  },
  {
   "cell_type": "code",
   "execution_count": 774,
   "metadata": {},
   "outputs": [
    {
     "name": "stdout",
     "output_type": "stream",
     "text": [
      "p-value for Sugarless fat > Sugar fat: 0.00000000000000000000000000000000000000000000000000000000000000000000000000000000000000000000000000000223172926484404807747988301580109989611904941288343738871209563894808200064831834569796224811315597024770208451745952392027002871835357873428825373392665819402769597200341675214855014249928158531609484024284028293107895533401389860433986730358865441942173291067774698603898286819458007812500000000000000000000000000000000000000000000000000000000000000000000000000000000000000000000000000000000000000000000000000000000000000000000000000000000000000000000000000000000000000000000000000000000000000000000000000000000000000000000000000000000000000000000000000000000000000000000000000000000000000000000000000000000000000000000000000000000000000000000000000000000000000000000000000000000000000000000000000\n"
     ]
    }
   ],
   "source": [
    "res = stats.mannwhitneyu(sugarn['Fat_val'], sugary['Fat_val'], alternative=\"greater\")\n",
    "print(\"p-value for Sugarless fat > Sugar fat: {:2.800f}\".format(res.pvalue))"
   ]
  },
  {
   "cell_type": "code",
   "execution_count": null,
   "metadata": {},
   "outputs": [],
   "source": []
  },
  {
   "cell_type": "code",
   "execution_count": null,
   "metadata": {},
   "outputs": [],
   "source": []
  },
  {
   "cell_type": "code",
   "execution_count": null,
   "metadata": {},
   "outputs": [],
   "source": [
    "H0(Null Hypothesis) = sugar has higher salt than sugarless\n",
    "H1(Alternative Hypothesis) = sugarless has higher salt than sugar"
   ]
  },
  {
   "cell_type": "code",
   "execution_count": 777,
   "metadata": {},
   "outputs": [],
   "source": [
    "# res = stats.mannwhitneyu(sugarn['Sod_val'], sugary['Sod_val'], alternative=\"greater\")\n",
    "# print(\"p-value for Sugar > Sugarless: {:2.8000f}\".format(res.pvalue))"
   ]
  },
  {
   "cell_type": "code",
   "execution_count": null,
   "metadata": {},
   "outputs": [],
   "source": []
  },
  {
   "cell_type": "code",
   "execution_count": null,
   "metadata": {},
   "outputs": [],
   "source": [
    "H0(Null Hypothesis) = sugarless reviews are higher than sugar\n",
    "H1(Alternative Hypothesis) = sugar reviews are higher than sugarless"
   ]
  },
  {
   "cell_type": "code",
   "execution_count": 771,
   "metadata": {},
   "outputs": [
    {
     "name": "stdout",
     "output_type": "stream",
     "text": [
      "p-value for Sugar > Sugarless: 0.000000064406709362172910444877\n"
     ]
    }
   ],
   "source": [
    "res = stats.mannwhitneyu(sugary1['Rating'], sugarn1['Rating'], alternative=\"greater\")\n",
    "print(\"p-value for Sugar rating > Sugarless rating: {:2.30f}\".format(res.pvalue))"
   ]
  },
  {
   "cell_type": "code",
   "execution_count": null,
   "metadata": {},
   "outputs": [],
   "source": [
    "reject null"
   ]
  },
  {
   "cell_type": "code",
   "execution_count": null,
   "metadata": {},
   "outputs": [],
   "source": []
  },
  {
   "cell_type": "code",
   "execution_count": null,
   "metadata": {},
   "outputs": [],
   "source": []
  },
  {
   "cell_type": "code",
   "execution_count": null,
   "metadata": {},
   "outputs": [],
   "source": []
  },
  {
   "cell_type": "code",
   "execution_count": null,
   "metadata": {},
   "outputs": [],
   "source": []
  },
  {
   "cell_type": "code",
   "execution_count": 717,
   "metadata": {},
   "outputs": [
    {
     "name": "stderr",
     "output_type": "stream",
     "text": [
      "/Users/esotewic/anaconda3/lib/python3.7/site-packages/ipykernel_launcher.py:13: SettingWithCopyWarning: \n",
      "A value is trying to be set on a copy of a slice from a DataFrame.\n",
      "Try using .loc[row_indexer,col_indexer] = value instead\n",
      "\n",
      "See the caveats in the documentation: http://pandas.pydata.org/pandas-docs/stable/indexing.html#indexing-view-versus-copy\n",
      "  del sys.path[0]\n",
      "/Users/esotewic/anaconda3/lib/python3.7/site-packages/ipykernel_launcher.py:17: SettingWithCopyWarning: \n",
      "A value is trying to be set on a copy of a slice from a DataFrame.\n",
      "Try using .loc[row_indexer,col_indexer] = value instead\n",
      "\n",
      "See the caveats in the documentation: http://pandas.pydata.org/pandas-docs/stable/indexing.html#indexing-view-versus-copy\n",
      "/Users/esotewic/anaconda3/lib/python3.7/site-packages/ipykernel_launcher.py:21: SettingWithCopyWarning: \n",
      "A value is trying to be set on a copy of a slice from a DataFrame.\n",
      "Try using .loc[row_indexer,col_indexer] = value instead\n",
      "\n",
      "See the caveats in the documentation: http://pandas.pydata.org/pandas-docs/stable/indexing.html#indexing-view-versus-copy\n",
      "/Users/esotewic/anaconda3/lib/python3.7/site-packages/ipykernel_launcher.py:22: SettingWithCopyWarning: \n",
      "A value is trying to be set on a copy of a slice from a DataFrame.\n",
      "Try using .loc[row_indexer,col_indexer] = value instead\n",
      "\n",
      "See the caveats in the documentation: http://pandas.pydata.org/pandas-docs/stable/indexing.html#indexing-view-versus-copy\n"
     ]
    }
   ],
   "source": [
    "#data cleaning\n",
    "def get_val(x):\n",
    "    return str(x).split(' ')[0]\n",
    "# def get_perc(x):\n",
    "#     return str(x.split(' ')[1])[2:-2]\n",
    "\n",
    "colz = ['Carbohydrates', 'Cholesterol', 'Fat', 'Fiber', 'Protein',\n",
    "       'Saturated Fat', 'Sodium']\n",
    "valcolz = [x[:3] + '_val' for x in colz]\n",
    "percolz = [x[:3] + '_perc' for x in colz]\n",
    "\n",
    "for i,x in enumerate(colz):\n",
    "    sugar_yes[valcolz[i]] = sugar_yes[x].dropna().apply(get_val)\n",
    "#     rn[percolz[i]] = rn[x].dropna().apply(get_perc)\n",
    "    \n",
    "for i,x in enumerate(colz):\n",
    "    sugar_no[valcolz[i]] = sugar_no[x].dropna().apply(get_val)\n",
    "#     rna[percolz[i]] = rna[x].dropna().apply(get_perc)\n",
    "\n",
    "\n",
    "sugar_no['Make_Again#'] = sugar_no['Make_Again'].apply(lambda x: x.strip('%'))\n",
    "sugar_yes['Make_Again#'] = sugar_yes['Make_Again'].apply(lambda x: x.strip('%'))\n"
   ]
  },
  {
   "cell_type": "code",
   "execution_count": null,
   "metadata": {},
   "outputs": [],
   "source": []
  },
  {
   "cell_type": "code",
   "execution_count": 664,
   "metadata": {},
   "outputs": [
    {
     "data": {
      "text/plain": [
       "(33102, 12)"
      ]
     },
     "execution_count": 664,
     "metadata": {},
     "output_type": "execute_result"
    }
   ],
   "source": [
    "all_nutritions.shape"
   ]
  },
  {
   "cell_type": "code",
   "execution_count": 521,
   "metadata": {},
   "outputs": [
    {
     "data": {
      "text/html": [
       "<div>\n",
       "<style scoped>\n",
       "    .dataframe tbody tr th:only-of-type {\n",
       "        vertical-align: middle;\n",
       "    }\n",
       "\n",
       "    .dataframe tbody tr th {\n",
       "        vertical-align: top;\n",
       "    }\n",
       "\n",
       "    .dataframe thead th {\n",
       "        text-align: right;\n",
       "    }\n",
       "</style>\n",
       "<table border=\"1\" class=\"dataframe\">\n",
       "  <thead>\n",
       "    <tr style=\"text-align: right;\">\n",
       "      <th></th>\n",
       "      <th>Calories</th>\n",
       "      <th>Make_Again#</th>\n",
       "      <th>Rating</th>\n",
       "      <th>Reviews</th>\n",
       "      <th>Car_val</th>\n",
       "      <th>Cho_val</th>\n",
       "      <th>Fat_val</th>\n",
       "      <th>Fib_val</th>\n",
       "      <th>Pro_val</th>\n",
       "      <th>Sat_val</th>\n",
       "      <th>Sod_val</th>\n",
       "      <th>score</th>\n",
       "    </tr>\n",
       "  </thead>\n",
       "  <tbody>\n",
       "    <tr>\n",
       "      <th>11934</th>\n",
       "      <td>16486.0</td>\n",
       "      <td>79</td>\n",
       "      <td>3.5</td>\n",
       "      <td>16</td>\n",
       "      <td>26.0</td>\n",
       "      <td>3192.0</td>\n",
       "      <td>1528.0</td>\n",
       "      <td>9.0</td>\n",
       "      <td>612.0</td>\n",
       "      <td>663.0</td>\n",
       "      <td>2492.0</td>\n",
       "      <td>44.24</td>\n",
       "    </tr>\n",
       "    <tr>\n",
       "      <th>25780</th>\n",
       "      <td>13289.0</td>\n",
       "      <td>75</td>\n",
       "      <td>3.0</td>\n",
       "      <td>4</td>\n",
       "      <td>83.0</td>\n",
       "      <td>629.0</td>\n",
       "      <td>1419.0</td>\n",
       "      <td>1.0</td>\n",
       "      <td>104.0</td>\n",
       "      <td>111.0</td>\n",
       "      <td>3232.0</td>\n",
       "      <td>9.00</td>\n",
       "    </tr>\n",
       "    <tr>\n",
       "      <th>6562</th>\n",
       "      <td>11414.0</td>\n",
       "      <td>96</td>\n",
       "      <td>3.5</td>\n",
       "      <td>29</td>\n",
       "      <td>83.0</td>\n",
       "      <td>2128.0</td>\n",
       "      <td>1032.0</td>\n",
       "      <td>16.0</td>\n",
       "      <td>426.0</td>\n",
       "      <td>443.0</td>\n",
       "      <td>2087.0</td>\n",
       "      <td>97.44</td>\n",
       "    </tr>\n",
       "    <tr>\n",
       "      <th>5527</th>\n",
       "      <td>11099.0</td>\n",
       "      <td>97</td>\n",
       "      <td>3.5</td>\n",
       "      <td>34</td>\n",
       "      <td>29.0</td>\n",
       "      <td>2128.0</td>\n",
       "      <td>1024.0</td>\n",
       "      <td>3.0</td>\n",
       "      <td>407.0</td>\n",
       "      <td>443.0</td>\n",
       "      <td>1430.0</td>\n",
       "      <td>115.43</td>\n",
       "    </tr>\n",
       "    <tr>\n",
       "      <th>277</th>\n",
       "      <td>11016.0</td>\n",
       "      <td>93</td>\n",
       "      <td>3.5</td>\n",
       "      <td>174</td>\n",
       "      <td>18.0</td>\n",
       "      <td>2128.0</td>\n",
       "      <td>1023.0</td>\n",
       "      <td>4.0</td>\n",
       "      <td>408.0</td>\n",
       "      <td>442.0</td>\n",
       "      <td>2156.0</td>\n",
       "      <td>566.37</td>\n",
       "    </tr>\n",
       "  </tbody>\n",
       "</table>\n",
       "</div>"
      ],
      "text/plain": [
       "       Calories  Make_Again#  Rating  Reviews  Car_val  Cho_val  Fat_val  \\\n",
       "11934   16486.0           79     3.5       16     26.0   3192.0   1528.0   \n",
       "25780   13289.0           75     3.0        4     83.0    629.0   1419.0   \n",
       "6562    11414.0           96     3.5       29     83.0   2128.0   1032.0   \n",
       "5527    11099.0           97     3.5       34     29.0   2128.0   1024.0   \n",
       "277     11016.0           93     3.5      174     18.0   2128.0   1023.0   \n",
       "\n",
       "       Fib_val  Pro_val  Sat_val  Sod_val   score  \n",
       "11934      9.0    612.0    663.0   2492.0   44.24  \n",
       "25780      1.0    104.0    111.0   3232.0    9.00  \n",
       "6562      16.0    426.0    443.0   2087.0   97.44  \n",
       "5527       3.0    407.0    443.0   1430.0  115.43  \n",
       "277        4.0    408.0    442.0   2156.0  566.37  "
      ]
     },
     "execution_count": 521,
     "metadata": {},
     "output_type": "execute_result"
    }
   ],
   "source": [
    "all_nutritions.sort_values('Fat_val', ascending=False).head(5)"
   ]
  },
  {
   "cell_type": "code",
   "execution_count": 849,
   "metadata": {},
   "outputs": [
    {
     "data": {
      "text/plain": [
       "(3775, 12)"
      ]
     },
     "execution_count": 849,
     "metadata": {},
     "output_type": "execute_result"
    }
   ],
   "source": [
    "\n",
    "\n",
    "def find_toofat(x):\n",
    "    if x['Calories']<2800 and x['Fat_val']<93: return True\n",
    "    return False\n",
    "         \n",
    "mask = summer_nutritions.apply(find_toofat,axis=1)\n",
    "#print(mask)\n",
    "\n",
    "summer_nutritions = summer_nutritions[mask]\n",
    "\n",
    "\n",
    "mask = winter_nutritions.apply(find_toofat,axis=1)\n",
    "#print(mask)\n",
    "\n",
    "winter_nutritions = winter_nutritions[mask]\n",
    "winter_nutritions.shape"
   ]
  },
  {
   "cell_type": "code",
   "execution_count": 851,
   "metadata": {},
   "outputs": [
    {
     "name": "stdout",
     "output_type": "stream",
     "text": [
      "(4724, 12)\n"
     ]
    },
    {
     "data": {
      "text/html": [
       "<div>\n",
       "<style scoped>\n",
       "    .dataframe tbody tr th:only-of-type {\n",
       "        vertical-align: middle;\n",
       "    }\n",
       "\n",
       "    .dataframe tbody tr th {\n",
       "        vertical-align: top;\n",
       "    }\n",
       "\n",
       "    .dataframe thead th {\n",
       "        text-align: right;\n",
       "    }\n",
       "</style>\n",
       "<table border=\"1\" class=\"dataframe\">\n",
       "  <thead>\n",
       "    <tr style=\"text-align: right;\">\n",
       "      <th></th>\n",
       "      <th>Calories</th>\n",
       "      <th>Make_Again#</th>\n",
       "      <th>Rating</th>\n",
       "      <th>Reviews</th>\n",
       "      <th>Car_val</th>\n",
       "      <th>Cho_val</th>\n",
       "      <th>Fat_val</th>\n",
       "      <th>Fib_val</th>\n",
       "      <th>Pro_val</th>\n",
       "      <th>Sat_val</th>\n",
       "      <th>Sod_val</th>\n",
       "      <th>score</th>\n",
       "    </tr>\n",
       "  </thead>\n",
       "  <tbody>\n",
       "    <tr>\n",
       "      <th>7120</th>\n",
       "      <td>1055.0</td>\n",
       "      <td>85</td>\n",
       "      <td>3.5</td>\n",
       "      <td>27</td>\n",
       "      <td>14.0</td>\n",
       "      <td>173.0</td>\n",
       "      <td>92.0</td>\n",
       "      <td>2.0</td>\n",
       "      <td>34.0</td>\n",
       "      <td>37.0</td>\n",
       "      <td>423.0</td>\n",
       "      <td>80.325</td>\n",
       "    </tr>\n",
       "    <tr>\n",
       "      <th>6490</th>\n",
       "      <td>1232.0</td>\n",
       "      <td>81</td>\n",
       "      <td>4.0</td>\n",
       "      <td>29</td>\n",
       "      <td>4.0</td>\n",
       "      <td>362.0</td>\n",
       "      <td>92.0</td>\n",
       "      <td>0.0</td>\n",
       "      <td>88.0</td>\n",
       "      <td>32.0</td>\n",
       "      <td>336.0</td>\n",
       "      <td>93.960</td>\n",
       "    </tr>\n",
       "    <tr>\n",
       "      <th>14729</th>\n",
       "      <td>1355.0</td>\n",
       "      <td>78</td>\n",
       "      <td>3.5</td>\n",
       "      <td>12</td>\n",
       "      <td>32.0</td>\n",
       "      <td>355.0</td>\n",
       "      <td>92.0</td>\n",
       "      <td>1.0</td>\n",
       "      <td>90.0</td>\n",
       "      <td>32.0</td>\n",
       "      <td>1797.0</td>\n",
       "      <td>32.760</td>\n",
       "    </tr>\n",
       "    <tr>\n",
       "      <th>15276</th>\n",
       "      <td>1040.0</td>\n",
       "      <td>80</td>\n",
       "      <td>3.5</td>\n",
       "      <td>11</td>\n",
       "      <td>22.0</td>\n",
       "      <td>168.0</td>\n",
       "      <td>91.0</td>\n",
       "      <td>4.0</td>\n",
       "      <td>33.0</td>\n",
       "      <td>35.0</td>\n",
       "      <td>126.0</td>\n",
       "      <td>30.800</td>\n",
       "    </tr>\n",
       "    <tr>\n",
       "      <th>304</th>\n",
       "      <td>1180.0</td>\n",
       "      <td>89</td>\n",
       "      <td>3.5</td>\n",
       "      <td>168</td>\n",
       "      <td>16.0</td>\n",
       "      <td>426.0</td>\n",
       "      <td>91.0</td>\n",
       "      <td>2.0</td>\n",
       "      <td>73.0</td>\n",
       "      <td>21.0</td>\n",
       "      <td>2693.0</td>\n",
       "      <td>523.320</td>\n",
       "    </tr>\n",
       "  </tbody>\n",
       "</table>\n",
       "</div>"
      ],
      "text/plain": [
       "       Calories  Make_Again#  Rating  Reviews  Car_val  Cho_val  Fat_val  \\\n",
       "7120     1055.0           85     3.5       27     14.0    173.0     92.0   \n",
       "6490     1232.0           81     4.0       29      4.0    362.0     92.0   \n",
       "14729    1355.0           78     3.5       12     32.0    355.0     92.0   \n",
       "15276    1040.0           80     3.5       11     22.0    168.0     91.0   \n",
       "304      1180.0           89     3.5      168     16.0    426.0     91.0   \n",
       "\n",
       "       Fib_val  Pro_val  Sat_val  Sod_val    score  \n",
       "7120       2.0     34.0     37.0    423.0   80.325  \n",
       "6490       0.0     88.0     32.0    336.0   93.960  \n",
       "14729      1.0     90.0     32.0   1797.0   32.760  \n",
       "15276      4.0     33.0     35.0    126.0   30.800  \n",
       "304        2.0     73.0     21.0   2693.0  523.320  "
      ]
     },
     "execution_count": 851,
     "metadata": {},
     "output_type": "execute_result"
    }
   ],
   "source": [
    "print(summer_nutritions.shape)\n",
    "summer_nutritions.sort_values('Fat_val', ascending=False).head(5)"
   ]
  },
  {
   "cell_type": "code",
   "execution_count": 523,
   "metadata": {},
   "outputs": [
    {
     "name": "stdout",
     "output_type": "stream",
     "text": [
      "(6550, 12)\n"
     ]
    },
    {
     "data": {
      "text/html": [
       "<div>\n",
       "<style scoped>\n",
       "    .dataframe tbody tr th:only-of-type {\n",
       "        vertical-align: middle;\n",
       "    }\n",
       "\n",
       "    .dataframe tbody tr th {\n",
       "        vertical-align: top;\n",
       "    }\n",
       "\n",
       "    .dataframe thead th {\n",
       "        text-align: right;\n",
       "    }\n",
       "</style>\n",
       "<table border=\"1\" class=\"dataframe\">\n",
       "  <thead>\n",
       "    <tr style=\"text-align: right;\">\n",
       "      <th></th>\n",
       "      <th>Calories</th>\n",
       "      <th>Make_Again#</th>\n",
       "      <th>Rating</th>\n",
       "      <th>Reviews</th>\n",
       "      <th>Car_val</th>\n",
       "      <th>Cho_val</th>\n",
       "      <th>Fat_val</th>\n",
       "      <th>Fib_val</th>\n",
       "      <th>Pro_val</th>\n",
       "      <th>Sat_val</th>\n",
       "      <th>Sod_val</th>\n",
       "      <th>score</th>\n",
       "    </tr>\n",
       "  </thead>\n",
       "  <tbody>\n",
       "    <tr>\n",
       "      <th>11462</th>\n",
       "      <td>14647.0</td>\n",
       "      <td>81</td>\n",
       "      <td>3.5</td>\n",
       "      <td>16</td>\n",
       "      <td>1451.0</td>\n",
       "      <td>3848.0</td>\n",
       "      <td>926.0</td>\n",
       "      <td>37.0</td>\n",
       "      <td>176.0</td>\n",
       "      <td>516.0</td>\n",
       "      <td>7832.0</td>\n",
       "      <td>45.36</td>\n",
       "    </tr>\n",
       "    <tr>\n",
       "      <th>23606</th>\n",
       "      <td>7595.0</td>\n",
       "      <td>100</td>\n",
       "      <td>3.0</td>\n",
       "      <td>5</td>\n",
       "      <td>517.0</td>\n",
       "      <td>1046.0</td>\n",
       "      <td>608.0</td>\n",
       "      <td>39.0</td>\n",
       "      <td>134.0</td>\n",
       "      <td>282.0</td>\n",
       "      <td>1745.0</td>\n",
       "      <td>15.00</td>\n",
       "    </tr>\n",
       "    <tr>\n",
       "      <th>12766</th>\n",
       "      <td>7879.0</td>\n",
       "      <td>71</td>\n",
       "      <td>3.0</td>\n",
       "      <td>14</td>\n",
       "      <td>710.0</td>\n",
       "      <td>2230.0</td>\n",
       "      <td>559.0</td>\n",
       "      <td>58.0</td>\n",
       "      <td>80.0</td>\n",
       "      <td>334.0</td>\n",
       "      <td>4876.0</td>\n",
       "      <td>29.82</td>\n",
       "    </tr>\n",
       "    <tr>\n",
       "      <th>4439</th>\n",
       "      <td>5553.0</td>\n",
       "      <td>89</td>\n",
       "      <td>3.5</td>\n",
       "      <td>40</td>\n",
       "      <td>12.0</td>\n",
       "      <td>1064.0</td>\n",
       "      <td>515.0</td>\n",
       "      <td>2.0</td>\n",
       "      <td>205.0</td>\n",
       "      <td>222.0</td>\n",
       "      <td>1861.0</td>\n",
       "      <td>124.60</td>\n",
       "    </tr>\n",
       "    <tr>\n",
       "      <th>21707</th>\n",
       "      <td>5513.0</td>\n",
       "      <td>25</td>\n",
       "      <td>2.0</td>\n",
       "      <td>6</td>\n",
       "      <td>1.0</td>\n",
       "      <td>1472.0</td>\n",
       "      <td>428.0</td>\n",
       "      <td>1.0</td>\n",
       "      <td>387.0</td>\n",
       "      <td>207.0</td>\n",
       "      <td>1803.0</td>\n",
       "      <td>3.00</td>\n",
       "    </tr>\n",
       "  </tbody>\n",
       "</table>\n",
       "</div>"
      ],
      "text/plain": [
       "       Calories  Make_Again#  Rating  Reviews  Car_val  Cho_val  Fat_val  \\\n",
       "11462   14647.0           81     3.5       16   1451.0   3848.0    926.0   \n",
       "23606    7595.0          100     3.0        5    517.0   1046.0    608.0   \n",
       "12766    7879.0           71     3.0       14    710.0   2230.0    559.0   \n",
       "4439     5553.0           89     3.5       40     12.0   1064.0    515.0   \n",
       "21707    5513.0           25     2.0        6      1.0   1472.0    428.0   \n",
       "\n",
       "       Fib_val  Pro_val  Sat_val  Sod_val   score  \n",
       "11462     37.0    176.0    516.0   7832.0   45.36  \n",
       "23606     39.0    134.0    282.0   1745.0   15.00  \n",
       "12766     58.0     80.0    334.0   4876.0   29.82  \n",
       "4439       2.0    205.0    222.0   1861.0  124.60  \n",
       "21707      1.0    387.0    207.0   1803.0    3.00  "
      ]
     },
     "execution_count": 523,
     "metadata": {},
     "output_type": "execute_result"
    }
   ],
   "source": [
    "print(summer_nutritions.shape)\n",
    "summer_nutritions.sort_values('Fat_val', ascending=False).head(5)"
   ]
  },
  {
   "cell_type": "code",
   "execution_count": 850,
   "metadata": {},
   "outputs": [
    {
     "name": "stdout",
     "output_type": "stream",
     "text": [
      "(3775, 12)\n"
     ]
    },
    {
     "data": {
      "text/html": [
       "<div>\n",
       "<style scoped>\n",
       "    .dataframe tbody tr th:only-of-type {\n",
       "        vertical-align: middle;\n",
       "    }\n",
       "\n",
       "    .dataframe tbody tr th {\n",
       "        vertical-align: top;\n",
       "    }\n",
       "\n",
       "    .dataframe thead th {\n",
       "        text-align: right;\n",
       "    }\n",
       "</style>\n",
       "<table border=\"1\" class=\"dataframe\">\n",
       "  <thead>\n",
       "    <tr style=\"text-align: right;\">\n",
       "      <th></th>\n",
       "      <th>Calories</th>\n",
       "      <th>Make_Again#</th>\n",
       "      <th>Rating</th>\n",
       "      <th>Reviews</th>\n",
       "      <th>Car_val</th>\n",
       "      <th>Cho_val</th>\n",
       "      <th>Fat_val</th>\n",
       "      <th>Fib_val</th>\n",
       "      <th>Pro_val</th>\n",
       "      <th>Sat_val</th>\n",
       "      <th>Sod_val</th>\n",
       "      <th>score</th>\n",
       "    </tr>\n",
       "  </thead>\n",
       "  <tbody>\n",
       "    <tr>\n",
       "      <th>360</th>\n",
       "      <td>1150.0</td>\n",
       "      <td>95</td>\n",
       "      <td>3.5</td>\n",
       "      <td>154</td>\n",
       "      <td>9.0</td>\n",
       "      <td>376.0</td>\n",
       "      <td>92.0</td>\n",
       "      <td>2.0</td>\n",
       "      <td>68.0</td>\n",
       "      <td>39.0</td>\n",
       "      <td>245.0</td>\n",
       "      <td>512.05</td>\n",
       "    </tr>\n",
       "    <tr>\n",
       "      <th>772</th>\n",
       "      <td>1361.0</td>\n",
       "      <td>82</td>\n",
       "      <td>3.0</td>\n",
       "      <td>110</td>\n",
       "      <td>7.0</td>\n",
       "      <td>434.0</td>\n",
       "      <td>92.0</td>\n",
       "      <td>3.0</td>\n",
       "      <td>127.0</td>\n",
       "      <td>39.0</td>\n",
       "      <td>653.0</td>\n",
       "      <td>270.60</td>\n",
       "    </tr>\n",
       "    <tr>\n",
       "      <th>5925</th>\n",
       "      <td>1177.0</td>\n",
       "      <td>71</td>\n",
       "      <td>3.5</td>\n",
       "      <td>32</td>\n",
       "      <td>50.0</td>\n",
       "      <td>190.0</td>\n",
       "      <td>91.0</td>\n",
       "      <td>7.0</td>\n",
       "      <td>40.0</td>\n",
       "      <td>39.0</td>\n",
       "      <td>761.0</td>\n",
       "      <td>79.52</td>\n",
       "    </tr>\n",
       "    <tr>\n",
       "      <th>16600</th>\n",
       "      <td>1167.0</td>\n",
       "      <td>100</td>\n",
       "      <td>3.5</td>\n",
       "      <td>10</td>\n",
       "      <td>47.0</td>\n",
       "      <td>176.0</td>\n",
       "      <td>91.0</td>\n",
       "      <td>10.0</td>\n",
       "      <td>33.0</td>\n",
       "      <td>30.0</td>\n",
       "      <td>854.0</td>\n",
       "      <td>35.00</td>\n",
       "    </tr>\n",
       "    <tr>\n",
       "      <th>18130</th>\n",
       "      <td>1124.0</td>\n",
       "      <td>88</td>\n",
       "      <td>3.5</td>\n",
       "      <td>8</td>\n",
       "      <td>59.0</td>\n",
       "      <td>120.0</td>\n",
       "      <td>91.0</td>\n",
       "      <td>9.0</td>\n",
       "      <td>21.0</td>\n",
       "      <td>8.0</td>\n",
       "      <td>1212.0</td>\n",
       "      <td>24.64</td>\n",
       "    </tr>\n",
       "  </tbody>\n",
       "</table>\n",
       "</div>"
      ],
      "text/plain": [
       "       Calories  Make_Again#  Rating  Reviews  Car_val  Cho_val  Fat_val  \\\n",
       "360      1150.0           95     3.5      154      9.0    376.0     92.0   \n",
       "772      1361.0           82     3.0      110      7.0    434.0     92.0   \n",
       "5925     1177.0           71     3.5       32     50.0    190.0     91.0   \n",
       "16600    1167.0          100     3.5       10     47.0    176.0     91.0   \n",
       "18130    1124.0           88     3.5        8     59.0    120.0     91.0   \n",
       "\n",
       "       Fib_val  Pro_val  Sat_val  Sod_val   score  \n",
       "360        2.0     68.0     39.0    245.0  512.05  \n",
       "772        3.0    127.0     39.0    653.0  270.60  \n",
       "5925       7.0     40.0     39.0    761.0   79.52  \n",
       "16600     10.0     33.0     30.0    854.0   35.00  \n",
       "18130      9.0     21.0      8.0   1212.0   24.64  "
      ]
     },
     "execution_count": 850,
     "metadata": {},
     "output_type": "execute_result"
    }
   ],
   "source": [
    "print(winter_nutritions.shape)\n",
    "winter_nutritions.sort_values('Fat_val', ascending=False).head(5)"
   ]
  },
  {
   "cell_type": "code",
   "execution_count": 614,
   "metadata": {},
   "outputs": [
    {
     "name": "stdout",
     "output_type": "stream",
     "text": [
      "(4930, 12)\n"
     ]
    },
    {
     "data": {
      "text/html": [
       "<div>\n",
       "<style scoped>\n",
       "    .dataframe tbody tr th:only-of-type {\n",
       "        vertical-align: middle;\n",
       "    }\n",
       "\n",
       "    .dataframe tbody tr th {\n",
       "        vertical-align: top;\n",
       "    }\n",
       "\n",
       "    .dataframe thead th {\n",
       "        text-align: right;\n",
       "    }\n",
       "</style>\n",
       "<table border=\"1\" class=\"dataframe\">\n",
       "  <thead>\n",
       "    <tr style=\"text-align: right;\">\n",
       "      <th></th>\n",
       "      <th>Calories</th>\n",
       "      <th>Make_Again#</th>\n",
       "      <th>Rating</th>\n",
       "      <th>Reviews</th>\n",
       "      <th>Car_val</th>\n",
       "      <th>Cho_val</th>\n",
       "      <th>Fat_val</th>\n",
       "      <th>Fib_val</th>\n",
       "      <th>Pro_val</th>\n",
       "      <th>Sat_val</th>\n",
       "      <th>Sod_val</th>\n",
       "      <th>score</th>\n",
       "    </tr>\n",
       "  </thead>\n",
       "  <tbody>\n",
       "    <tr>\n",
       "      <th>11934</th>\n",
       "      <td>16486.0</td>\n",
       "      <td>79</td>\n",
       "      <td>3.5</td>\n",
       "      <td>16</td>\n",
       "      <td>26.0</td>\n",
       "      <td>3192.0</td>\n",
       "      <td>1528.0</td>\n",
       "      <td>9.0</td>\n",
       "      <td>612.0</td>\n",
       "      <td>663.0</td>\n",
       "      <td>2492.0</td>\n",
       "      <td>44.24</td>\n",
       "    </tr>\n",
       "    <tr>\n",
       "      <th>6562</th>\n",
       "      <td>11414.0</td>\n",
       "      <td>96</td>\n",
       "      <td>3.5</td>\n",
       "      <td>29</td>\n",
       "      <td>83.0</td>\n",
       "      <td>2128.0</td>\n",
       "      <td>1032.0</td>\n",
       "      <td>16.0</td>\n",
       "      <td>426.0</td>\n",
       "      <td>443.0</td>\n",
       "      <td>2087.0</td>\n",
       "      <td>97.44</td>\n",
       "    </tr>\n",
       "    <tr>\n",
       "      <th>5527</th>\n",
       "      <td>11099.0</td>\n",
       "      <td>97</td>\n",
       "      <td>3.5</td>\n",
       "      <td>34</td>\n",
       "      <td>29.0</td>\n",
       "      <td>2128.0</td>\n",
       "      <td>1024.0</td>\n",
       "      <td>3.0</td>\n",
       "      <td>407.0</td>\n",
       "      <td>443.0</td>\n",
       "      <td>1430.0</td>\n",
       "      <td>115.43</td>\n",
       "    </tr>\n",
       "    <tr>\n",
       "      <th>277</th>\n",
       "      <td>11016.0</td>\n",
       "      <td>93</td>\n",
       "      <td>3.5</td>\n",
       "      <td>174</td>\n",
       "      <td>18.0</td>\n",
       "      <td>2128.0</td>\n",
       "      <td>1023.0</td>\n",
       "      <td>4.0</td>\n",
       "      <td>408.0</td>\n",
       "      <td>442.0</td>\n",
       "      <td>2156.0</td>\n",
       "      <td>566.37</td>\n",
       "    </tr>\n",
       "    <tr>\n",
       "      <th>21901</th>\n",
       "      <td>5760.0</td>\n",
       "      <td>83</td>\n",
       "      <td>3.0</td>\n",
       "      <td>6</td>\n",
       "      <td>246.0</td>\n",
       "      <td>671.0</td>\n",
       "      <td>483.0</td>\n",
       "      <td>21.0</td>\n",
       "      <td>122.0</td>\n",
       "      <td>80.0</td>\n",
       "      <td>4881.0</td>\n",
       "      <td>14.94</td>\n",
       "    </tr>\n",
       "  </tbody>\n",
       "</table>\n",
       "</div>"
      ],
      "text/plain": [
       "       Calories  Make_Again#  Rating  Reviews  Car_val  Cho_val  Fat_val  \\\n",
       "11934   16486.0           79     3.5       16     26.0   3192.0   1528.0   \n",
       "6562    11414.0           96     3.5       29     83.0   2128.0   1032.0   \n",
       "5527    11099.0           97     3.5       34     29.0   2128.0   1024.0   \n",
       "277     11016.0           93     3.5      174     18.0   2128.0   1023.0   \n",
       "21901    5760.0           83     3.0        6    246.0    671.0    483.0   \n",
       "\n",
       "       Fib_val  Pro_val  Sat_val  Sod_val   score  \n",
       "11934      9.0    612.0    663.0   2492.0   44.24  \n",
       "6562      16.0    426.0    443.0   2087.0   97.44  \n",
       "5527       3.0    407.0    443.0   1430.0  115.43  \n",
       "277        4.0    408.0    442.0   2156.0  566.37  \n",
       "21901     21.0    122.0     80.0   4881.0   14.94  "
      ]
     },
     "execution_count": 614,
     "metadata": {},
     "output_type": "execute_result"
    }
   ],
   "source": [
    "print(winter_nutritions.shape)\n",
    "winter_nutritions.sort_values('Fat_val', ascending=False).head(5)"
   ]
  },
  {
   "cell_type": "code",
   "execution_count": 140,
   "metadata": {},
   "outputs": [
    {
     "data": {
      "text/html": [
       "<div>\n",
       "<style scoped>\n",
       "    .dataframe tbody tr th:only-of-type {\n",
       "        vertical-align: middle;\n",
       "    }\n",
       "\n",
       "    .dataframe tbody tr th {\n",
       "        vertical-align: top;\n",
       "    }\n",
       "\n",
       "    .dataframe thead th {\n",
       "        text-align: right;\n",
       "    }\n",
       "</style>\n",
       "<table border=\"1\" class=\"dataframe\">\n",
       "  <thead>\n",
       "    <tr style=\"text-align: right;\">\n",
       "      <th></th>\n",
       "      <th>index</th>\n",
       "      <th>Calories</th>\n",
       "      <th>Make_Again#</th>\n",
       "      <th>Rating</th>\n",
       "      <th>Reviews</th>\n",
       "      <th>Car_val</th>\n",
       "      <th>Cho_val</th>\n",
       "      <th>Fat_val</th>\n",
       "      <th>Fib_val</th>\n",
       "      <th>Pro_val</th>\n",
       "      <th>Sat_val</th>\n",
       "      <th>Sod_val</th>\n",
       "      <th>score</th>\n",
       "    </tr>\n",
       "  </thead>\n",
       "  <tbody>\n",
       "    <tr>\n",
       "      <th>0</th>\n",
       "      <td>5</td>\n",
       "      <td>286.0</td>\n",
       "      <td>96</td>\n",
       "      <td>4.0</td>\n",
       "      <td>484</td>\n",
       "      <td>55.0</td>\n",
       "      <td>35.0</td>\n",
       "      <td>7.0</td>\n",
       "      <td>2.0</td>\n",
       "      <td>4.0</td>\n",
       "      <td>4.0</td>\n",
       "      <td>240.0</td>\n",
       "      <td>1858.560</td>\n",
       "    </tr>\n",
       "    <tr>\n",
       "      <th>1</th>\n",
       "      <td>6</td>\n",
       "      <td>3400.0</td>\n",
       "      <td>91</td>\n",
       "      <td>3.5</td>\n",
       "      <td>481</td>\n",
       "      <td>485.0</td>\n",
       "      <td>616.0</td>\n",
       "      <td>157.0</td>\n",
       "      <td>20.0</td>\n",
       "      <td>44.0</td>\n",
       "      <td>86.0</td>\n",
       "      <td>2373.0</td>\n",
       "      <td>1531.985</td>\n",
       "    </tr>\n",
       "    <tr>\n",
       "      <th>2</th>\n",
       "      <td>8</td>\n",
       "      <td>283.0</td>\n",
       "      <td>90</td>\n",
       "      <td>3.5</td>\n",
       "      <td>446</td>\n",
       "      <td>33.0</td>\n",
       "      <td>35.0</td>\n",
       "      <td>13.0</td>\n",
       "      <td>2.0</td>\n",
       "      <td>11.0</td>\n",
       "      <td>8.0</td>\n",
       "      <td>535.0</td>\n",
       "      <td>1404.900</td>\n",
       "    </tr>\n",
       "    <tr>\n",
       "      <th>3</th>\n",
       "      <td>9</td>\n",
       "      <td>791.0</td>\n",
       "      <td>95</td>\n",
       "      <td>4.0</td>\n",
       "      <td>443</td>\n",
       "      <td>13.0</td>\n",
       "      <td>221.0</td>\n",
       "      <td>57.0</td>\n",
       "      <td>2.0</td>\n",
       "      <td>51.0</td>\n",
       "      <td>23.0</td>\n",
       "      <td>697.0</td>\n",
       "      <td>1683.400</td>\n",
       "    </tr>\n",
       "    <tr>\n",
       "      <th>4</th>\n",
       "      <td>12</td>\n",
       "      <td>851.0</td>\n",
       "      <td>95</td>\n",
       "      <td>3.5</td>\n",
       "      <td>424</td>\n",
       "      <td>45.0</td>\n",
       "      <td>178.0</td>\n",
       "      <td>55.0</td>\n",
       "      <td>5.0</td>\n",
       "      <td>46.0</td>\n",
       "      <td>27.0</td>\n",
       "      <td>1384.0</td>\n",
       "      <td>1409.800</td>\n",
       "    </tr>\n",
       "  </tbody>\n",
       "</table>\n",
       "</div>"
      ],
      "text/plain": [
       "   index  Calories  Make_Again#  Rating  Reviews  Car_val  Cho_val  Fat_val  \\\n",
       "0      5     286.0           96     4.0      484     55.0     35.0      7.0   \n",
       "1      6    3400.0           91     3.5      481    485.0    616.0    157.0   \n",
       "2      8     283.0           90     3.5      446     33.0     35.0     13.0   \n",
       "3      9     791.0           95     4.0      443     13.0    221.0     57.0   \n",
       "4     12     851.0           95     3.5      424     45.0    178.0     55.0   \n",
       "\n",
       "   Fib_val  Pro_val  Sat_val  Sod_val     score  \n",
       "0      2.0      4.0      4.0    240.0  1858.560  \n",
       "1     20.0     44.0     86.0   2373.0  1531.985  \n",
       "2      2.0     11.0      8.0    535.0  1404.900  \n",
       "3      2.0     51.0     23.0    697.0  1683.400  \n",
       "4      5.0     46.0     27.0   1384.0  1409.800  "
      ]
     },
     "execution_count": 140,
     "metadata": {},
     "output_type": "execute_result"
    }
   ],
   "source": [
    "winter_nutritions.reset_index().head()"
   ]
  },
  {
   "cell_type": "code",
   "execution_count": 854,
   "metadata": {},
   "outputs": [
    {
     "data": {
      "image/png": "[encoded data removed]",
      "text/plain": [
       "<Figure size 864x360 with 12 Axes>"
      ]
     },
     "metadata": {
      "needs_background": "light"
     },
     "output_type": "display_data"
    }
   ],
   "source": [
    "winter_nutritions.hist(figsize=(12, 5), grid=False, bins = 50)\n",
    "plt.tight_layout()"
   ]
  },
  {
   "cell_type": "code",
   "execution_count": 855,
   "metadata": {},
   "outputs": [
    {
     "data": {
      "image/png": "[encoded data removed]",
      "text/plain": [
       "<Figure size 1008x504 with 12 Axes>"
      ]
     },
     "metadata": {
      "needs_background": "light"
     },
     "output_type": "display_data"
    }
   ],
   "source": [
    "summer_nutritions.hist(figsize=(14, 7), grid=False, bins = 50)\n",
    "plt.tight_layout()"
   ]
  },
  {
   "cell_type": "code",
   "execution_count": 408,
   "metadata": {},
   "outputs": [
    {
     "data": {
      "image/png": "[encoded data removed]",
      "text/plain": [
       "<Figure size 864x360 with 12 Axes>"
      ]
     },
     "metadata": {},
     "output_type": "display_data"
    }
   ],
   "source": [
    "all_nutrition.hist(figsize=(12, 5), grid=False)\n",
    "plt.tight_layout()"
   ]
  },
  {
   "cell_type": "code",
   "execution_count": 748,
   "metadata": {},
   "outputs": [
    {
     "name": "stdout",
     "output_type": "stream",
     "text": [
      "80.0\n",
      "0.0\n"
     ]
    }
   ],
   "source": [
    "all_nutritions_no_fat\n",
    "\n",
    "allfatnofat=all_nutritions_no_fat['Fat_val'].dropna()\n",
    "print(np.percentile(allfatnofat,99))\n",
    "print(np.percentile(allfatnofat,1))"
   ]
  },
  {
   "cell_type": "code",
   "execution_count": 747,
   "metadata": {},
   "outputs": [
    {
     "name": "stdout",
     "output_type": "stream",
     "text": [
      "192.0600000000013\n",
      "0.0\n"
     ]
    }
   ],
   "source": [
    "allfat=all_nutritions['Fat_val'].dropna()\n",
    "print(np.percentile(allfat,99))\n",
    "print(np.percentile(allfat,1))"
   ]
  },
  {
   "cell_type": "code",
   "execution_count": 856,
   "metadata": {},
   "outputs": [
    {
     "name": "stdout",
     "output_type": "stream",
     "text": [
      "190.30000000000018\n",
      "0.0\n"
     ]
    }
   ],
   "source": [
    "winterfat=winter_nutritions['Fat_val'].dropna()\n",
    "print(np.percentile(winterratings,99))\n",
    "print(np.percentile(winterratings,1))"
   ]
  },
  {
   "cell_type": "code",
   "execution_count": 857,
   "metadata": {},
   "outputs": [
    {
     "name": "stdout",
     "output_type": "stream",
     "text": [
      "137.73999999999978\n",
      "0.0\n"
     ]
    }
   ],
   "source": [
    "summerfat=summer_nutritions['Fat_val'].dropna()\n",
    "print(np.percentile(summerratings,99))\n",
    "print(np.percentile(summerratings,1))"
   ]
  },
  {
   "cell_type": "code",
   "execution_count": 622,
   "metadata": {},
   "outputs": [],
   "source": [
    "# allmakeagain=all_nutrition['Make_Again#'].dropna()\n",
    "# print(np.percentile(allmakeagain,99))\n",
    "# print(np.percentile(allmakeagain,1))\n",
    "# sns.kdeplot(allmakeagain,\n",
    "#         shade=False, shade_lowest=False)"
   ]
  },
  {
   "cell_type": "code",
   "execution_count": 858,
   "metadata": {},
   "outputs": [],
   "source": [
    "# winter_nutritions.dropna(winter_nutritions['Fat_val'], axis = 1)\n",
    "# winter_nutritions['Fat_val'].dropna()\n",
    "# winterfat = winter_nutritions['Fat_val'].dropna()\n",
    "# winterfat.filter(lambda x: 0<x<190.3)\n",
    "\n",
    "# np.percentile(winterfat,99)\n",
    "# np.percentile(winterfat,1)\n",
    "all_nutritions_no_fat\n",
    "afnf = allfatnofat[allfatnofat<80]\n",
    "af = allfat[allfat<192]\n",
    "wf = winterfat[winterfat<190]\n",
    "sf = summerfat[summerfat<137]"
   ]
  },
  {
   "cell_type": "code",
   "execution_count": 623,
   "metadata": {},
   "outputs": [
    {
     "data": {
      "text/plain": [
       "count    4681.000000\n",
       "mean       19.184576\n",
       "std        16.455044\n",
       "min         0.000000\n",
       "25%         7.000000\n",
       "50%        15.000000\n",
       "75%        28.000000\n",
       "max        80.000000\n",
       "Name: Fat_val, dtype: float64"
      ]
     },
     "execution_count": 623,
     "metadata": {},
     "output_type": "execute_result"
    }
   ],
   "source": [
    "sf.describe()"
   ]
  },
  {
   "cell_type": "code",
   "execution_count": 624,
   "metadata": {},
   "outputs": [
    {
     "data": {
      "text/plain": [
       "count    3817.000000\n",
       "mean       23.384857\n",
       "std        20.248364\n",
       "min         0.000000\n",
       "25%         9.000000\n",
       "50%        18.000000\n",
       "75%        32.000000\n",
       "max       105.000000\n",
       "Name: Fat_val, dtype: float64"
      ]
     },
     "execution_count": 624,
     "metadata": {},
     "output_type": "execute_result"
    }
   ],
   "source": [
    "wf.describe()"
   ]
  },
  {
   "cell_type": "code",
   "execution_count": 1015,
   "metadata": {},
   "outputs": [
    {
     "data": {
      "image/png": "[encoded data removed]",
      "text/plain": [
       "<Figure size 360x360 with 1 Axes>"
      ]
     },
     "metadata": {
      "needs_background": "light"
     },
     "output_type": "display_data"
    }
   ],
   "source": [
    "fig,axs = plt.subplots(figsize=(5,5))\n",
    "sns.kdeplot(wf, shade=True, shade_lowest=False, label='Winter')\n",
    "sns.kdeplot(sf, shade=True, shade_lowest=False, label='Summer')\n",
    "plt.axvline(np.mean(wf), label= 'Winter mean', linestyle= '--')\n",
    "plt.axvline(np.mean(sf), color = 'mediumblue', label = 'Summer mean', linestyle= '--')\n",
    "axs.set_title(\"Distribution of Winter vs Summer (Fat)\",fontsize=15)\n",
    "# axs.set_xlabel('Fat Value',fontsize=20)\n",
    "# axs.set_ylabel('Distribution',fontsize=15)\n",
    "plt.legend()\n",
    "fig.tight_layout()"
   ]
  },
  {
   "cell_type": "code",
   "execution_count": 1023,
   "metadata": {},
   "outputs": [
    {
     "data": {
      "image/png": "[encoded data removed]",
      "text/plain": [
       "<Figure size 576x432 with 1 Axes>"
      ]
     },
     "metadata": {
      "needs_background": "light"
     },
     "output_type": "display_data"
    }
   ],
   "source": [
    "fig,axs = plt.subplots(figsize=(8,6))\n",
    "sns.kdeplot(af, shade=True, shade_lowest=False, label='Uncleaned', linestyle='--')\n",
    "sns.kdeplot(afnf, shade=True, shade_lowest=False, label='Clean')\n",
    "plt.axvline(np.mean(af), label= 'Uncleaned mean', linestyle= '--')\n",
    "plt.axvline(np.mean(afnf), color = 'b', label = 'Clean mean')\n",
    "axs.set_title(\"Distribution of Clean vs Unclean Data\",fontsize=15)\n",
    "axs.set_xlabel('Fat',fontsize=15)\n",
    "axs.set_ylabel('Distribution',fontsize=15)\n",
    "plt.legend(fontsize=10)\n",
    "fig.tight_layout();"
   ]
  },
  {
   "cell_type": "code",
   "execution_count": 928,
   "metadata": {},
   "outputs": [
    {
     "data": {
      "text/plain": [
       "Text(0, 0.5, 'Clean')"
      ]
     },
     "execution_count": 928,
     "metadata": {},
     "output_type": "execute_result"
    },
    {
     "data": {
      "image/png": "[encoded data removed]",
      "text/plain": [
       "<Figure size 1080x288 with 1 Axes>"
      ]
     },
     "metadata": {
      "needs_background": "light"
     },
     "output_type": "display_data"
    }
   ],
   "source": [
    "fig,axs=plt.subplots(figsize=(15,4))\n",
    "# axs[0]=sns.boxplot(x=all_nutritions['Fat_val'].dropna())\n",
    "# sns.boxplot(x=all_nutritions['Fat_val'].dropna())\n",
    "sns.boxplot(x=all_nutritions_no_fat['Fat_val'].dropna(),color='lightblue');\n",
    "axs.set_xlabel('Data',fontsize=20)\n",
    "axs.set_ylabel('Clean',fontsize=20)\n",
    "\n",
    "# allfat"
   ]
  },
  {
   "cell_type": "code",
   "execution_count": 926,
   "metadata": {},
   "outputs": [
    {
     "data": {
      "text/plain": [
       "Text(0.5, 0, 'Data')"
      ]
     },
     "execution_count": 926,
     "metadata": {},
     "output_type": "execute_result"
    },
    {
     "data": {
      "image/png": "[encoded data removed]",
      "text/plain": [
       "<Figure size 1080x288 with 1 Axes>"
      ]
     },
     "metadata": {
      "needs_background": "light"
     },
     "output_type": "display_data"
    }
   ],
   "source": [
    "fig,axs=plt.subplots(figsize=(15,4))\n",
    "axs.set_title(\"Distribution of Clean vs Unclean Data\",fontsize=25)\n",
    "axs.set_xlabel('Data',fontsize=20)\n",
    "sns.boxplot(x=all_nutritions['Fat_val'].dropna())\n",
    "axs.set_ylabel('Dirty',fontsize=20)\n",
    "axs.set_xlabel('Data',fontsize=20)"
   ]
  },
  {
   "cell_type": "code",
   "execution_count": 908,
   "metadata": {},
   "outputs": [
    {
     "data": {
      "text/plain": [
       "<matplotlib.axes._subplots.AxesSubplot at 0x1a394ba2b0>"
      ]
     },
     "execution_count": 908,
     "metadata": {},
     "output_type": "execute_result"
    },
    {
     "data": {
      "image/png": "[encoded data removed]",
      "text/plain": [
       "<Figure size 1080x288 with 1 Axes>"
      ]
     },
     "metadata": {
      "needs_background": "light"
     },
     "output_type": "display_data"
    }
   ],
   "source": [
    "fig,axs=plt.subplots(figsize=(15,4))\n",
    "sns.boxplot(x=summer_nutritions['Fat_val'].dropna())"
   ]
  },
  {
   "cell_type": "code",
   "execution_count": 909,
   "metadata": {},
   "outputs": [
    {
     "data": {
      "text/plain": [
       "<matplotlib.axes._subplots.AxesSubplot at 0x1a3950fd30>"
      ]
     },
     "execution_count": 909,
     "metadata": {},
     "output_type": "execute_result"
    },
    {
     "data": {
      "image/png": "[encoded data removed]",
      "text/plain": [
       "<Figure size 1080x288 with 1 Axes>"
      ]
     },
     "metadata": {
      "needs_background": "light"
     },
     "output_type": "display_data"
    }
   ],
   "source": [
    "fig,axs=plt.subplots(figsize=(15,4))\n",
    "sns.boxplot(x=winter_nutritions['Fat_val'].dropna())"
   ]
  },
  {
   "cell_type": "code",
   "execution_count": 569,
   "metadata": {},
   "outputs": [],
   "source": [
    "def one_dim_scatterplot(data, ax, jitter=0.2, **options):\n",
    "    if jitter:\n",
    "        jitter = np.random.uniform(-jitter, jitter, size=data.shape)\n",
    "    else:\n",
    "        jitter = np.repeat(0.0, len(data))\n",
    "    ax.scatter(data, jitter, **options)\n",
    "    ax.yaxis.set_ticklabels([])\n",
    "    ax.set_ylim([-1, 1])"
   ]
  },
  {
   "cell_type": "code",
   "execution_count": 573,
   "metadata": {},
   "outputs": [
    {
     "name": "stdout",
     "output_type": "stream",
     "text": [
      "4728\n",
      "3856\n"
     ]
    }
   ],
   "source": [
    "print(len(sf))\n",
    "print(len(wf))"
   ]
  },
  {
   "cell_type": "code",
   "execution_count": 646,
   "metadata": {},
   "outputs": [
    {
     "data": {
      "image/png": "[encoded data removed]",
      "text/plain": [
       "<Figure size 1152x288 with 2 Axes>"
      ]
     },
     "metadata": {},
     "output_type": "display_data"
    }
   ],
   "source": [
    "fig, (ax0,ax1) = plt.subplots(2, figsize=(16, 4))\n",
    "one_dim_scatterplot(wf, ax0, s=25)\n",
    "one_dim_scatterplot(sf, ax1, s=25)"
   ]
  },
  {
   "cell_type": "code",
   "execution_count": 402,
   "metadata": {},
   "outputs": [
    {
     "data": {
      "image/png": "[encoded data removed]",
      "text/plain": [
       "<Figure size 1152x720 with 1 Axes>"
      ]
     },
     "metadata": {},
     "output_type": "display_data"
    }
   ],
   "source": [
    "nutrition_list = ['Make_Again#', 'Reviews', 'score']\n",
    "def nutrition_bar_graph(nutrition_list):\n",
    "    '''\n",
    "    Plots nutrition into bar graph\n",
    "    \n",
    "    Arr: list of nutrtions\n",
    "        \n",
    "    returns: graph of mean and std comparison'''\n",
    "    labels = []\n",
    "    summer_means = []\n",
    "    winter_means = []\n",
    "    for i in nutrition_list:\n",
    "        labels.append(i + ' Mean')\n",
    "        labels.append(i + ' STD')\n",
    "        summer_means.append(round(summer_nutritions[i].mean()))\n",
    "        summer_means.append(round(summer_nutritions[i].std()))\n",
    "        winter_means.append(round(winter_nutritions[i].mean()))\n",
    "        winter_means.append(round(winter_nutritions[i].std()))\n",
    "        \n",
    "    x = np.arange(len(labels))\n",
    "    width = .45\n",
    "\n",
    "    fig,ax=plt.subplots(figsize=(16,10))\n",
    "    rects1 = ax.bar(x - width/2, summer_means, width, label='Summer')\n",
    "    rects2 = ax.bar(x + width/2, winter_means, width, label='Winter')\n",
    "\n",
    "    ax.set_ylabel('Values')\n",
    "    ax.set_title('Summer Fat Content vs Winter Fat Content')\n",
    "    ax.set_xticks(x)\n",
    "    ax.set_xticklabels(labels)\n",
    "    ax.legend()\n",
    "\n",
    "    def autolabel(rects):\n",
    "        for rect in rects:\n",
    "            height = rect.get_height()\n",
    "            ax.annotate('{}'.format(height),\n",
    "                       xy=(rect.get_x() + rect.get_width() / 2, height),\n",
    "                       xytext=(0,3),\n",
    "                       textcoords = 'offset points',\n",
    "                       ha='center', va='bottom')\n",
    "\n",
    "    autolabel(rects1)\n",
    "    autolabel(rects2)\n",
    "\n",
    "    fig.tight_layout()\n",
    "    plt.show()\n",
    "\n",
    "nutrition_bar_graph(nutrition_list)"
   ]
  },
  {
   "cell_type": "code",
   "execution_count": 995,
   "metadata": {},
   "outputs": [
    {
     "data": {
      "image/png": "[encoded data removed]",
      "text/plain": [
       "<Figure size 720x360 with 1 Axes>"
      ]
     },
     "metadata": {
      "needs_background": "light"
     },
     "output_type": "display_data"
    }
   ],
   "source": [
    "nutrition_list = ['Car_val', 'Fat_val', 'Sat_val']\n",
    "def nutrition_bar_graph(nutrition_list):\n",
    "    '''\n",
    "    Plots nutrition into bar graph\n",
    "    \n",
    "    Arr: list of nutrtions\n",
    "        \n",
    "    returns: graph of mean and std comparison'''\n",
    "    labels = []\n",
    "    summer_means = []\n",
    "    winter_means = []\n",
    "    for i in nutrition_list:\n",
    "        labels.append(i + ' Mean')\n",
    "        labels.append(i + ' STD')\n",
    "        summer_means.append(round(summer_nutritions[i].mean()))\n",
    "        summer_means.append(round(summer_nutritions[i].std()))\n",
    "        winter_means.append(round(winter_nutritions[i].mean()))\n",
    "        winter_means.append(round(winter_nutritions[i].std()))\n",
    "        \n",
    "    x = np.arange(len(labels))\n",
    "    width = .45\n",
    "\n",
    "    fig,ax=plt.subplots(figsize=(10,5))\n",
    "    rects1 = ax.bar(x - width/2, summer_means, width, label='Summer')\n",
    "    rects2 = ax.bar(x + width/2, winter_means, width, label='Winter')\n",
    "\n",
    "    ax.set_ylabel('Values',fontsize=20)\n",
    "    ax.set_title('Summer Nutrition vs Winter Nutrition',fontsize=25)\n",
    "    ax.set_xticks(x)\n",
    "    ax.set_xticklabels(labels,fontsize=15)\n",
    "    ax.legend(fontsize=20)\n",
    "\n",
    "    def autolabel(rects):\n",
    "        for rect in rects:\n",
    "            height = rect.get_height()\n",
    "            ax.annotate('{}'.format(height),\n",
    "                       xy=(rect.get_x() + rect.get_width() / 2, height),\n",
    "                       xytext=(0,3),\n",
    "                       textcoords = 'offset points',\n",
    "                       ha='center', va='bottom',fontsize=12)\n",
    "\n",
    "    autolabel(rects1)\n",
    "    autolabel(rects2)\n",
    "\n",
    "    fig.tight_layout()\n",
    "    plt.show()\n",
    "\n",
    "nutrition_bar_graph(nutrition_list)"
   ]
  },
  {
   "cell_type": "code",
   "execution_count": 205,
   "metadata": {
    "scrolled": true
   },
   "outputs": [],
   "source": [
    "# distribution?\n"
   ]
  },
  {
   "cell_type": "code",
   "execution_count": 933,
   "metadata": {},
   "outputs": [],
   "source": [
    "winter_sample = []\n",
    "for i,v in enumerate(winter_nutritions['Fat_val']):\n",
    "    if v % 1 != 0:\n",
    "        continue\n",
    "    else:\n",
    "        winter_sample.append(v)\n",
    "        if len(winter_sample) == 3000:\n",
    "            break\n",
    "\n",
    "        \n",
    "summer_sample = []\n",
    "for i,v in enumerate(summer_nutritions['Fat_val']):\n",
    "    if v % 1 != 0:\n",
    "        continue\n",
    "    else:\n",
    "        summer_sample.append(v)\n",
    "        if len(summer_sample) == 3000:\n",
    "            break\n",
    "        \n",
    "# summer_sample"
   ]
  },
  {
   "cell_type": "code",
   "execution_count": 200,
   "metadata": {},
   "outputs": [],
   "source": [
    "def welch_test_statistic(sample_1, sample_2):\n",
    "    numerator = np.mean(sample_1) - np.mean(sample_2)\n",
    "    denominator_sq = (np.var(sample_1) / len(sample_1)) + (np.var(sample_2) / len(sample_2))\n",
    "    return numerator / np.sqrt(denominator_sq)"
   ]
  },
  {
   "cell_type": "code",
   "execution_count": 202,
   "metadata": {},
   "outputs": [
    {
     "name": "stdout",
     "output_type": "stream",
     "text": [
      "Welch Test Statistic: -5.23\n"
     ]
    }
   ],
   "source": [
    "test_statistic = welch_test_statistic(summer_sample, winter_sample)\n",
    "print(\"Welch Test Statistic: {:2.2f}\".format(test_statistic))\n"
   ]
  },
  {
   "cell_type": "code",
   "execution_count": 824,
   "metadata": {},
   "outputs": [
    {
     "data": {
      "text/plain": [
       "[Text(0, 0, 'Winter'), Text(0, 0, 'Summer')]"
      ]
     },
     "execution_count": 824,
     "metadata": {},
     "output_type": "execute_result"
    },
    {
     "data": {
      "image/png": "[encoded data removed]",
      "text/plain": [
       "<Figure size 1152x216 with 1 Axes>"
      ]
     },
     "metadata": {
      "needs_background": "light"
     },
     "output_type": "display_data"
    }
   ],
   "source": [
    "fig, ax = plt.subplots(1, figsize=(16, 3))\n",
    "\n",
    "ax.scatter(summer_sample, np.repeat(0, len(summer_sample)) + np.random.normal(0, 0.1, len(summer_sample)), s=45)\n",
    "ax.scatter(winter_sample, np.repeat(1, len(winter_sample)) + np.random.normal(0, 0.1, len(summer_sample)), s=45)\n",
    "ax.set_yticks([0, 1])\n",
    "ax.set_yticklabels([\"Winter\", \"Summer\"],fontsize=20)\n"
   ]
  },
  {
   "cell_type": "code",
   "execution_count": 253,
   "metadata": {},
   "outputs": [],
   "source": [
    "def count_winning_pairs(sample_1, sample_2):\n",
    "    sample_1, sample_2 = np.array(sample_1), np.array(sample_2)\n",
    "    n_total_wins = 0\n",
    "    for x in sample_1:\n",
    "        n_wins = np.sum(x > sample_2) + 0.5*np.sum(x == sample_2)\n",
    "        n_total_wins += n_wins\n",
    "    return n_total_wins"
   ]
  },
  {
   "cell_type": "code",
   "execution_count": 254,
   "metadata": {},
   "outputs": [
    {
     "name": "stdout",
     "output_type": "stream",
     "text": [
      "Number of Winter Wins: 61.5\n",
      "Number of Summer Wins: 563.5\n"
     ]
    }
   ],
   "source": [
    "winter_wins = count_winning_pairs(winter_sample, summer_sample)\n",
    "summer_wins = count_winning_pairs(summer_sample, winter_sample)\n",
    "print(\"Number of Winter Wins: {}\".format(winter_wins))\n",
    "print(\"Number of Summer Wins: {}\".format(summer_wins))"
   ]
  },
  {
   "cell_type": "code",
   "execution_count": 651,
   "metadata": {},
   "outputs": [
    {
     "name": "stdout",
     "output_type": "stream",
     "text": [
      "Total Number of Wins: 625.0\n",
      "Total Number of Comparisons: 9000000\n"
     ]
    }
   ],
   "source": [
    "print(\"Total Number of Wins: {}\".format(winter_wins + summer_wins))\n",
    "print(\"Total Number of Comparisons: {}\".format(len(winter_sample)*len(summer_sample)))"
   ]
  },
  {
   "cell_type": "markdown",
   "metadata": {},
   "source": [
    "H0(Null Hypothesis) = summer is higher than winter\n",
    "H1(Alternative Hypothesis) = Winter is higher than summer"
   ]
  },
  {
   "cell_type": "code",
   "execution_count": 934,
   "metadata": {},
   "outputs": [
    {
     "name": "stdout",
     "output_type": "stream",
     "text": [
      "p-value for Winter > Summer: 0.000398365969076911732513202047\n"
     ]
    }
   ],
   "source": [
    "res = stats.mannwhitneyu(winter_sample, summer_sample, alternative=\"greater\")\n",
    "print(\"p-value for Winter > Summer: {:2.30f}\".format(res.pvalue))"
   ]
  },
  {
   "cell_type": "code",
   "execution_count": null,
   "metadata": {},
   "outputs": [],
   "source": [
    "We have to reject the Null Hypothesis"
   ]
  },
  {
   "cell_type": "code",
   "execution_count": 832,
   "metadata": {},
   "outputs": [
    {
     "data": {
      "text/plain": [
       "list"
      ]
     },
     "execution_count": 832,
     "metadata": {},
     "output_type": "execute_result"
    }
   ],
   "source": [
    "type(summer_sample)"
   ]
  },
  {
   "cell_type": "code",
   "execution_count": 983,
   "metadata": {},
   "outputs": [
    {
     "data": {
      "text/plain": [
       "list"
      ]
     },
     "execution_count": 983,
     "metadata": {},
     "output_type": "execute_result"
    }
   ],
   "source": [
    "type(summer_sample)"
   ]
  },
  {
   "cell_type": "code",
   "execution_count": 866,
   "metadata": {},
   "outputs": [
    {
     "data": {
      "image/png": "[encoded data removed]",
      "text/plain": [
       "<Figure size 576x576 with 1 Axes>"
      ]
     },
     "metadata": {
      "needs_background": "light"
     },
     "output_type": "display_data"
    }
   ],
   "source": [
    "fig, axes = plt.subplots(figsize=(8,8))\n",
    "\n",
    "axes.violinplot(dataset = [summer_sample,winter_sample])\n",
    "axes.set_title('Summer Fat vs Winter Fat')\n",
    "\n",
    "axes.yaxis.grid(True)\n",
    "axes.set_xlabel('Season')\n",
    "axes.set_ylabel('Fat Dist')\n",
    "\n",
    "plt.show()"
   ]
  },
  {
   "cell_type": "code",
   "execution_count": 970,
   "metadata": {},
   "outputs": [
    {
     "data": {
      "text/plain": [
       "Rating\n",
       "0.0    401.500000\n",
       "1.0    371.652174\n",
       "1.5    303.416667\n",
       "2.0    345.653465\n",
       "2.5    389.190000\n",
       "3.0    406.898261\n",
       "3.5    450.363068\n",
       "4.0    392.982801\n",
       "Name: Calories, dtype: float64"
      ]
     },
     "execution_count": 970,
     "metadata": {},
     "output_type": "execute_result"
    }
   ],
   "source": [
    "df = winter_nutritions.groupby('Rating').mean()['Calories']"
   ]
  },
  {
   "cell_type": "code",
   "execution_count": 974,
   "metadata": {},
   "outputs": [
    {
     "ename": "ValueError",
     "evalue": "Could not interpret input 'Rating'",
     "output_type": "error",
     "traceback": [
      "\u001b[0;31m---------------------------------------------------------------------------\u001b[0m",
      "\u001b[0;31mValueError\u001b[0m                                Traceback (most recent call last)",
      "\u001b[0;32m<ipython-input-974-098f460a528a>\u001b[0m in \u001b[0;36m<module>\u001b[0;34m\u001b[0m\n\u001b[0;32m----> 1\u001b[0;31m \u001b[0msns\u001b[0m\u001b[0;34m.\u001b[0m\u001b[0mboxplot\u001b[0m\u001b[0;34m(\u001b[0m\u001b[0mx\u001b[0m\u001b[0;34m=\u001b[0m\u001b[0;34m\"Rating\"\u001b[0m\u001b[0;34m,\u001b[0m \u001b[0my\u001b[0m\u001b[0;34m=\u001b[0m\u001b[0;34m\"Calories\"\u001b[0m\u001b[0;34m,\u001b[0m \u001b[0mdata\u001b[0m \u001b[0;34m=\u001b[0m \u001b[0mdf\u001b[0m\u001b[0;34m)\u001b[0m\u001b[0;34m\u001b[0m\u001b[0;34m\u001b[0m\u001b[0m\n\u001b[0m",
      "\u001b[0;32m~/anaconda3/lib/python3.7/site-packages/seaborn/categorical.py\u001b[0m in \u001b[0;36mboxplot\u001b[0;34m(x, y, hue, data, order, hue_order, orient, color, palette, saturation, width, dodge, fliersize, linewidth, whis, notch, ax, **kwargs)\u001b[0m\n\u001b[1;32m   2229\u001b[0m     plotter = _BoxPlotter(x, y, hue, data, order, hue_order,\n\u001b[1;32m   2230\u001b[0m                           \u001b[0morient\u001b[0m\u001b[0;34m,\u001b[0m \u001b[0mcolor\u001b[0m\u001b[0;34m,\u001b[0m \u001b[0mpalette\u001b[0m\u001b[0;34m,\u001b[0m \u001b[0msaturation\u001b[0m\u001b[0;34m,\u001b[0m\u001b[0;34m\u001b[0m\u001b[0;34m\u001b[0m\u001b[0m\n\u001b[0;32m-> 2231\u001b[0;31m                           width, dodge, fliersize, linewidth)\n\u001b[0m\u001b[1;32m   2232\u001b[0m \u001b[0;34m\u001b[0m\u001b[0m\n\u001b[1;32m   2233\u001b[0m     \u001b[0;32mif\u001b[0m \u001b[0max\u001b[0m \u001b[0;32mis\u001b[0m \u001b[0;32mNone\u001b[0m\u001b[0;34m:\u001b[0m\u001b[0;34m\u001b[0m\u001b[0;34m\u001b[0m\u001b[0m\n",
      "\u001b[0;32m~/anaconda3/lib/python3.7/site-packages/seaborn/categorical.py\u001b[0m in \u001b[0;36m__init__\u001b[0;34m(self, x, y, hue, data, order, hue_order, orient, color, palette, saturation, width, dodge, fliersize, linewidth)\u001b[0m\n\u001b[1;32m    444\u001b[0m                  width, dodge, fliersize, linewidth):\n\u001b[1;32m    445\u001b[0m \u001b[0;34m\u001b[0m\u001b[0m\n\u001b[0;32m--> 446\u001b[0;31m         \u001b[0mself\u001b[0m\u001b[0;34m.\u001b[0m\u001b[0mestablish_variables\u001b[0m\u001b[0;34m(\u001b[0m\u001b[0mx\u001b[0m\u001b[0;34m,\u001b[0m \u001b[0my\u001b[0m\u001b[0;34m,\u001b[0m \u001b[0mhue\u001b[0m\u001b[0;34m,\u001b[0m \u001b[0mdata\u001b[0m\u001b[0;34m,\u001b[0m \u001b[0morient\u001b[0m\u001b[0;34m,\u001b[0m \u001b[0morder\u001b[0m\u001b[0;34m,\u001b[0m \u001b[0mhue_order\u001b[0m\u001b[0;34m)\u001b[0m\u001b[0;34m\u001b[0m\u001b[0;34m\u001b[0m\u001b[0m\n\u001b[0m\u001b[1;32m    447\u001b[0m         \u001b[0mself\u001b[0m\u001b[0;34m.\u001b[0m\u001b[0mestablish_colors\u001b[0m\u001b[0;34m(\u001b[0m\u001b[0mcolor\u001b[0m\u001b[0;34m,\u001b[0m \u001b[0mpalette\u001b[0m\u001b[0;34m,\u001b[0m \u001b[0msaturation\u001b[0m\u001b[0;34m)\u001b[0m\u001b[0;34m\u001b[0m\u001b[0;34m\u001b[0m\u001b[0m\n\u001b[1;32m    448\u001b[0m \u001b[0;34m\u001b[0m\u001b[0m\n",
      "\u001b[0;32m~/anaconda3/lib/python3.7/site-packages/seaborn/categorical.py\u001b[0m in \u001b[0;36mestablish_variables\u001b[0;34m(self, x, y, hue, data, orient, order, hue_order, units)\u001b[0m\n\u001b[1;32m    153\u001b[0m                 \u001b[0;32mif\u001b[0m \u001b[0misinstance\u001b[0m\u001b[0;34m(\u001b[0m\u001b[0minput\u001b[0m\u001b[0;34m,\u001b[0m \u001b[0mstring_types\u001b[0m\u001b[0;34m)\u001b[0m\u001b[0;34m:\u001b[0m\u001b[0;34m\u001b[0m\u001b[0;34m\u001b[0m\u001b[0m\n\u001b[1;32m    154\u001b[0m                     \u001b[0merr\u001b[0m \u001b[0;34m=\u001b[0m \u001b[0;34m\"Could not interpret input '{}'\"\u001b[0m\u001b[0;34m.\u001b[0m\u001b[0mformat\u001b[0m\u001b[0;34m(\u001b[0m\u001b[0minput\u001b[0m\u001b[0;34m)\u001b[0m\u001b[0;34m\u001b[0m\u001b[0;34m\u001b[0m\u001b[0m\n\u001b[0;32m--> 155\u001b[0;31m                     \u001b[0;32mraise\u001b[0m \u001b[0mValueError\u001b[0m\u001b[0;34m(\u001b[0m\u001b[0merr\u001b[0m\u001b[0;34m)\u001b[0m\u001b[0;34m\u001b[0m\u001b[0;34m\u001b[0m\u001b[0m\n\u001b[0m\u001b[1;32m    156\u001b[0m \u001b[0;34m\u001b[0m\u001b[0m\n\u001b[1;32m    157\u001b[0m             \u001b[0;31m# Figure out the plotting orientation\u001b[0m\u001b[0;34m\u001b[0m\u001b[0;34m\u001b[0m\u001b[0;34m\u001b[0m\u001b[0m\n",
      "\u001b[0;31mValueError\u001b[0m: Could not interpret input 'Rating'"
     ]
    }
   ],
   "source": [
    "sns.boxplot(x=\"Rating\", y=\"Calories\", data = df)"
   ]
  },
  {
   "cell_type": "code",
   "execution_count": null,
   "metadata": {},
   "outputs": [],
   "source": []
  },
  {
   "cell_type": "code",
   "execution_count": null,
   "metadata": {},
   "outputs": [],
   "source": []
  },
  {
   "cell_type": "code",
   "execution_count": null,
   "metadata": {},
   "outputs": [],
   "source": []
  },
  {
   "cell_type": "code",
   "execution_count": null,
   "metadata": {},
   "outputs": [],
   "source": []
  },
  {
   "cell_type": "code",
   "execution_count": null,
   "metadata": {},
   "outputs": [],
   "source": []
  }
 ],
 "metadata": {
  "kernelspec": {
   "display_name": "Python 3",
   "language": "python",
   "name": "python3"
  },
  "language_info": {
   "codemirror_mode": {
    "name": "ipython",
    "version": 3
   },
   "file_extension": ".py",
   "mimetype": "text/x-python",
   "name": "python",
   "nbconvert_exporter": "python",
   "pygments_lexer": "ipython3",
   "version": "3.7.3"
  }
 },
 "nbformat": 4,
 "nbformat_minor": 2
}
